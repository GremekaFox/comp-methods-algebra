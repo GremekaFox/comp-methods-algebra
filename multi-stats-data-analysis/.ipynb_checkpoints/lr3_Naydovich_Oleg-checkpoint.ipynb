{
 "cells": [
  {
   "cell_type": "markdown",
   "id": "cb1eaa9d",
   "metadata": {},
   "source": [
    "# Лабораторная работа № 3. Регрессионный анализ.\n"
   ]
  },
  {
   "cell_type": "code",
   "execution_count": 309,
   "id": "ad3e8248",
   "metadata": {
    "ExecuteTime": {
     "end_time": "2021-12-02T07:43:10.964563Z",
     "start_time": "2021-12-02T07:43:10.956550Z"
    }
   },
   "outputs": [],
   "source": [
    "import numpy as np\n",
    "import pandas as pd\n",
    "\n",
    "import seaborn as sns\n",
    "import matplotlib.pyplot as plt\n",
    "plt.rcParams[\"figure.figsize\"] = (8, 8)\n",
    "sns.set_style(\"darkgrid\")\n",
    "\n",
    "import warnings\n",
    "warnings.filterwarnings(\"ignore\")"
   ]
  },
  {
   "cell_type": "markdown",
   "id": "977a8be2",
   "metadata": {},
   "source": [
    "\n",
    "### 1. а) генерация параметров распределения; б) генерация многомерного нормального распределения с заданными параметрами."
   ]
  },
  {
   "cell_type": "code",
   "execution_count": 310,
   "id": "02e49dd0",
   "metadata": {
    "ExecuteTime": {
     "end_time": "2021-12-02T07:43:10.979517Z",
     "start_time": "2021-12-02T07:43:10.966523Z"
    }
   },
   "outputs": [],
   "source": [
    "# мультипликативный конгруэнтный метод  (Линейный конгруэнтный метод)\n",
    "# a = 123, c = 0, m = seed = 0x7fffffff = 2147483647\n",
    "\n",
    "def myRandom(m):\n",
    "    a = 123\n",
    "    seed = 1\n",
    "    \n",
    "    while True:\n",
    "        seed = (seed * a) % m\n",
    "        yield seed\n",
    "\n",
    "m = 0.55\n",
    "\n",
    "def get_random_val():\n",
    "    global m\n",
    "    m += 0.5\n",
    "    r = myRandom(m)\n",
    "    boot = []\n",
    "    for _ in range(1000):\n",
    "        tmp = next(r)\n",
    "        boot.append(tmp)\n",
    "    boot = sum(boot) / len(boot)\n",
    "    return boot\n",
    "\n",
    "def get_mean():\n",
    "    mean = np.array([get_random_val(), get_random_val(), get_random_val()])\n",
    "    return tuple(mean)\n",
    "\n",
    "def get_cov():\n",
    "    while True:\n",
    "        a1 = get_random_val()\n",
    "        a2 = get_random_val()\n",
    "        a3 = get_random_val()\n",
    "        a4 = get_random_val()\n",
    "        a5 = get_random_val()\n",
    "        a6 = get_random_val()\n",
    "        cov = np.array([[a1, a2, a3],\n",
    "                        [a2, a4, a5],\n",
    "                        [a3, a5, a6]])\n",
    "        if np.linalg.det(cov) > 0:\n",
    "            return cov"
   ]
  },
  {
   "cell_type": "code",
   "execution_count": 311,
   "id": "8ba773f9",
   "metadata": {
    "ExecuteTime": {
     "end_time": "2021-12-02T07:43:10.994448Z",
     "start_time": "2021-12-02T07:43:10.980487Z"
    }
   },
   "outputs": [],
   "source": [
    "mean, cov = get_mean(), get_cov()"
   ]
  },
  {
   "cell_type": "code",
   "execution_count": 312,
   "id": "e567ce5c",
   "metadata": {
    "ExecuteTime": {
     "end_time": "2021-12-02T07:43:11.010409Z",
     "start_time": "2021-12-02T07:43:10.995448Z"
    }
   },
   "outputs": [
    {
     "name": "stdout",
     "output_type": "stream",
     "text": [
      "norm vector:  (0.5256527956256279, 0.7848357743094704, 0.9900392393086354) \n",
      "\n",
      "cov matrix:\n",
      " [[5.76295987 6.18717308 6.42603352]\n",
      " [6.18717308 6.45472609 6.87237604]\n",
      " [6.42603352 6.87237604 7.03505572]]\n"
     ]
    }
   ],
   "source": [
    "print(\"norm vector: \", mean, \"\\n\\ncov matrix:\\n\", cov)"
   ]
  },
  {
   "cell_type": "code",
   "execution_count": 313,
   "id": "a79db381",
   "metadata": {
    "ExecuteTime": {
     "end_time": "2021-12-02T07:43:11.026411Z",
     "start_time": "2021-12-02T07:43:11.011404Z"
    }
   },
   "outputs": [],
   "source": [
    "df = np.random.multivariate_normal(mean, cov, 101)\n",
    "df = pd.DataFrame(data=df, columns=[[\"x1\", \"x2\", \"x3\"]])"
   ]
  },
  {
   "cell_type": "code",
   "execution_count": 314,
   "id": "753ac1a8",
   "metadata": {
    "ExecuteTime": {
     "end_time": "2021-12-02T07:43:11.042352Z",
     "start_time": "2021-12-02T07:43:11.027363Z"
    }
   },
   "outputs": [
    {
     "data": {
      "text/html": [
       "<div>\n",
       "<style scoped>\n",
       "    .dataframe tbody tr th:only-of-type {\n",
       "        vertical-align: middle;\n",
       "    }\n",
       "\n",
       "    .dataframe tbody tr th {\n",
       "        vertical-align: top;\n",
       "    }\n",
       "\n",
       "    .dataframe thead tr th {\n",
       "        text-align: left;\n",
       "    }\n",
       "</style>\n",
       "<table border=\"1\" class=\"dataframe\">\n",
       "  <thead>\n",
       "    <tr>\n",
       "      <th></th>\n",
       "      <th>x1</th>\n",
       "      <th>x2</th>\n",
       "      <th>x3</th>\n",
       "    </tr>\n",
       "  </thead>\n",
       "  <tbody>\n",
       "    <tr>\n",
       "      <th>0</th>\n",
       "      <td>0.740796</td>\n",
       "      <td>1.141160</td>\n",
       "      <td>1.591445</td>\n",
       "    </tr>\n",
       "    <tr>\n",
       "      <th>1</th>\n",
       "      <td>4.001525</td>\n",
       "      <td>4.548335</td>\n",
       "      <td>4.324772</td>\n",
       "    </tr>\n",
       "    <tr>\n",
       "      <th>2</th>\n",
       "      <td>1.659484</td>\n",
       "      <td>1.744040</td>\n",
       "      <td>1.910333</td>\n",
       "    </tr>\n",
       "    <tr>\n",
       "      <th>3</th>\n",
       "      <td>-0.494733</td>\n",
       "      <td>-0.066164</td>\n",
       "      <td>0.319808</td>\n",
       "    </tr>\n",
       "    <tr>\n",
       "      <th>4</th>\n",
       "      <td>0.807990</td>\n",
       "      <td>0.519158</td>\n",
       "      <td>0.973485</td>\n",
       "    </tr>\n",
       "  </tbody>\n",
       "</table>\n",
       "</div>"
      ],
      "text/plain": [
       "         x1        x2        x3\n",
       "0  0.740796  1.141160  1.591445\n",
       "1  4.001525  4.548335  4.324772\n",
       "2  1.659484  1.744040  1.910333\n",
       "3 -0.494733 -0.066164  0.319808\n",
       "4  0.807990  0.519158  0.973485"
      ]
     },
     "execution_count": 314,
     "metadata": {},
     "output_type": "execute_result"
    }
   ],
   "source": [
    "df.head()"
   ]
  },
  {
   "cell_type": "code",
   "execution_count": 315,
   "id": "ee759427",
   "metadata": {
    "ExecuteTime": {
     "end_time": "2021-12-02T07:43:11.058310Z",
     "start_time": "2021-12-02T07:43:11.043318Z"
    }
   },
   "outputs": [
    {
     "data": {
      "text/html": [
       "<div>\n",
       "<style scoped>\n",
       "    .dataframe tbody tr th:only-of-type {\n",
       "        vertical-align: middle;\n",
       "    }\n",
       "\n",
       "    .dataframe tbody tr th {\n",
       "        vertical-align: top;\n",
       "    }\n",
       "\n",
       "    .dataframe thead tr th {\n",
       "        text-align: left;\n",
       "    }\n",
       "</style>\n",
       "<table border=\"1\" class=\"dataframe\">\n",
       "  <thead>\n",
       "    <tr>\n",
       "      <th></th>\n",
       "      <th>x1</th>\n",
       "      <th>x2</th>\n",
       "      <th>x3</th>\n",
       "    </tr>\n",
       "  </thead>\n",
       "  <tbody>\n",
       "    <tr>\n",
       "      <th>x1</th>\n",
       "      <td>1.000000</td>\n",
       "      <td>0.973623</td>\n",
       "      <td>0.978997</td>\n",
       "    </tr>\n",
       "    <tr>\n",
       "      <th>x2</th>\n",
       "      <td>0.973623</td>\n",
       "      <td>1.000000</td>\n",
       "      <td>0.976860</td>\n",
       "    </tr>\n",
       "    <tr>\n",
       "      <th>x3</th>\n",
       "      <td>0.978997</td>\n",
       "      <td>0.976860</td>\n",
       "      <td>1.000000</td>\n",
       "    </tr>\n",
       "  </tbody>\n",
       "</table>\n",
       "</div>"
      ],
      "text/plain": [
       "          x1        x2        x3\n",
       "x1  1.000000  0.973623  0.978997\n",
       "x2  0.973623  1.000000  0.976860\n",
       "x3  0.978997  0.976860  1.000000"
      ]
     },
     "execution_count": 315,
     "metadata": {},
     "output_type": "execute_result"
    }
   ],
   "source": [
    "df.corr()"
   ]
  },
  {
   "cell_type": "markdown",
   "id": "038849c8",
   "metadata": {},
   "source": [
    "### 2. Случайным образом удалить из выборки одно трехмерное наблюдение и сохранить отдельно."
   ]
  },
  {
   "cell_type": "code",
   "execution_count": 316,
   "id": "60c7772b",
   "metadata": {
    "ExecuteTime": {
     "end_time": "2021-12-02T07:43:11.074269Z",
     "start_time": "2021-12-02T07:43:11.060272Z"
    },
    "scrolled": true
   },
   "outputs": [],
   "source": [
    "get_index = np.random.random_integers(0, 101)\n",
    "sample = df.loc[get_index]\n",
    "df = df.drop(get_index)\n",
    "# print(sample)\n",
    "# print(\"size df: \", df[:, 0].size)"
   ]
  },
  {
   "cell_type": "code",
   "execution_count": 317,
   "id": "49328b4d",
   "metadata": {
    "ExecuteTime": {
     "end_time": "2021-12-02T07:43:11.090226Z",
     "start_time": "2021-12-02T07:43:11.076233Z"
    }
   },
   "outputs": [
    {
     "data": {
      "text/plain": [
       "(100, 3)"
      ]
     },
     "execution_count": 317,
     "metadata": {},
     "output_type": "execute_result"
    }
   ],
   "source": [
    "df.shape"
   ]
  },
  {
   "cell_type": "markdown",
   "id": "f5b59de7",
   "metadata": {},
   "source": [
    "3. Обозначим компоненты сгенерированного нормального вектора как (x1, x2, x3). Предположим,\n",
    "что имеет место модель линейной регрессии: x1 = a0 + a2x2 + a3x3 + u, где u – независимые в\n",
    "совокупности нормально распределенные ошибки (остатки, residuals). **Оценить коэффициенты\n",
    "линейной регрессии a0, a2, a3, математическое ожидание и дисперсию ошибки u. (Можно\n",
    "использовать готовые методы)**"
   ]
  },
  {
   "cell_type": "code",
   "execution_count": 318,
   "id": "eb8d130a",
   "metadata": {
    "ExecuteTime": {
     "end_time": "2021-12-02T07:43:11.106150Z",
     "start_time": "2021-12-02T07:43:11.091224Z"
    }
   },
   "outputs": [],
   "source": [
    "def split_data(df):\n",
    "    X = df[[\"x2\", \"x3\"]]\n",
    "    y = df[\"x1\"]\n",
    "    return X, y"
   ]
  },
  {
   "cell_type": "code",
   "execution_count": 319,
   "id": "142b8072",
   "metadata": {
    "ExecuteTime": {
     "end_time": "2021-12-02T07:43:11.129831Z",
     "start_time": "2021-12-02T07:43:11.108145Z"
    }
   },
   "outputs": [],
   "source": [
    "def get_residual(X, y, reg):\n",
    "    prediction = reg.predict(X)\n",
    "    residual = (y - prediction)\n",
    "#     print(residual.head(5).values, \"\\n\")\n",
    "    print(residual.describe().T[[\"mean\", \"std\"]])\n",
    "    return residual"
   ]
  },
  {
   "cell_type": "code",
   "execution_count": 320,
   "id": "3e8a1be7",
   "metadata": {
    "ExecuteTime": {
     "end_time": "2021-12-02T07:43:11.137821Z",
     "start_time": "2021-12-02T07:43:11.131826Z"
    }
   },
   "outputs": [],
   "source": [
    "def get_MSE(pred, y):\n",
    "    return (pred - y)**2"
   ]
  },
  {
   "cell_type": "code",
   "execution_count": 321,
   "id": "c528077c",
   "metadata": {
    "ExecuteTime": {
     "end_time": "2021-12-02T07:43:11.153798Z",
     "start_time": "2021-12-02T07:43:11.139805Z"
    }
   },
   "outputs": [],
   "source": [
    "X, y = split_data(df)"
   ]
  },
  {
   "cell_type": "code",
   "execution_count": 322,
   "id": "420792ca",
   "metadata": {
    "ExecuteTime": {
     "end_time": "2021-12-02T07:43:11.169758Z",
     "start_time": "2021-12-02T07:43:11.154764Z"
    }
   },
   "outputs": [],
   "source": [
    "from sklearn.linear_model import LinearRegression"
   ]
  },
  {
   "cell_type": "code",
   "execution_count": 323,
   "id": "431f12a7",
   "metadata": {
    "ExecuteTime": {
     "end_time": "2021-12-02T07:43:11.185681Z",
     "start_time": "2021-12-02T07:43:11.170722Z"
    }
   },
   "outputs": [],
   "source": [
    "reg = LinearRegression().fit(X=X, y=y)"
   ]
  },
  {
   "cell_type": "code",
   "execution_count": 324,
   "id": "aa4cc233",
   "metadata": {
    "ExecuteTime": {
     "end_time": "2021-12-02T07:43:11.201638Z",
     "start_time": "2021-12-02T07:43:11.186679Z"
    }
   },
   "outputs": [
    {
     "name": "stdout",
     "output_type": "stream",
     "text": [
      "a2, a3: [0.35139388 0.56393849]\n",
      "a0:\t -0.31031051423947154\n"
     ]
    }
   ],
   "source": [
    "# x1 = a0 + a2x2 + a3x3 + u\n",
    "\n",
    "print(\"a2, a3:\", *reg.coef_)\n",
    "print(\"a0:\\t\", *reg.intercept_)"
   ]
  },
  {
   "cell_type": "code",
   "execution_count": 325,
   "id": "89dbfac1",
   "metadata": {
    "ExecuteTime": {
     "end_time": "2021-12-02T07:43:11.232555Z",
     "start_time": "2021-12-02T07:43:11.203634Z"
    }
   },
   "outputs": [
    {
     "name": "stdout",
     "output_type": "stream",
     "text": [
      "            mean       std\n",
      "x1  3.536060e-16  0.323642\n"
     ]
    },
    {
     "data": {
      "text/html": [
       "<div>\n",
       "<style scoped>\n",
       "    .dataframe tbody tr th:only-of-type {\n",
       "        vertical-align: middle;\n",
       "    }\n",
       "\n",
       "    .dataframe tbody tr th {\n",
       "        vertical-align: top;\n",
       "    }\n",
       "\n",
       "    .dataframe thead tr th {\n",
       "        text-align: left;\n",
       "    }\n",
       "</style>\n",
       "<table border=\"1\" class=\"dataframe\">\n",
       "  <thead>\n",
       "    <tr>\n",
       "      <th></th>\n",
       "      <th>x1</th>\n",
       "    </tr>\n",
       "  </thead>\n",
       "  <tbody>\n",
       "    <tr>\n",
       "      <th>0</th>\n",
       "      <td>-0.247367</td>\n",
       "    </tr>\n",
       "    <tr>\n",
       "      <th>1</th>\n",
       "      <td>0.274672</td>\n",
       "    </tr>\n",
       "    <tr>\n",
       "      <th>2</th>\n",
       "      <td>0.279639</td>\n",
       "    </tr>\n",
       "    <tr>\n",
       "      <th>3</th>\n",
       "      <td>-0.341525</td>\n",
       "    </tr>\n",
       "    <tr>\n",
       "      <th>4</th>\n",
       "      <td>0.386886</td>\n",
       "    </tr>\n",
       "    <tr>\n",
       "      <th>...</th>\n",
       "      <td>...</td>\n",
       "    </tr>\n",
       "    <tr>\n",
       "      <th>96</th>\n",
       "      <td>-0.258503</td>\n",
       "    </tr>\n",
       "    <tr>\n",
       "      <th>97</th>\n",
       "      <td>0.608032</td>\n",
       "    </tr>\n",
       "    <tr>\n",
       "      <th>98</th>\n",
       "      <td>-0.410458</td>\n",
       "    </tr>\n",
       "    <tr>\n",
       "      <th>99</th>\n",
       "      <td>-0.256381</td>\n",
       "    </tr>\n",
       "    <tr>\n",
       "      <th>100</th>\n",
       "      <td>-0.036416</td>\n",
       "    </tr>\n",
       "  </tbody>\n",
       "</table>\n",
       "<p>100 rows × 1 columns</p>\n",
       "</div>"
      ],
      "text/plain": [
       "           x1\n",
       "0   -0.247367\n",
       "1    0.274672\n",
       "2    0.279639\n",
       "3   -0.341525\n",
       "4    0.386886\n",
       "..        ...\n",
       "96  -0.258503\n",
       "97   0.608032\n",
       "98  -0.410458\n",
       "99  -0.256381\n",
       "100 -0.036416\n",
       "\n",
       "[100 rows x 1 columns]"
      ]
     },
     "execution_count": 325,
     "metadata": {},
     "output_type": "execute_result"
    }
   ],
   "source": [
    "get_residual(X, y, reg)"
   ]
  },
  {
   "cell_type": "markdown",
   "id": "269c8d95",
   "metadata": {
    "ExecuteTime": {
     "end_time": "2021-11-18T12:38:00.589480Z",
     "start_time": "2021-11-18T12:38:00.577963Z"
    }
   },
   "source": [
    "4. Для отдельно сохраненного вектора, по компонентам x2 и x3, используя модель линейной регрессии, спрогнозировать компоненту x1. **Найти квадрат разности точного значения этой компоненты и прогноза (квадрат ошибки).**"
   ]
  },
  {
   "cell_type": "code",
   "execution_count": 326,
   "id": "68ebdd1e",
   "metadata": {
    "ExecuteTime": {
     "end_time": "2021-12-02T07:43:11.247516Z",
     "start_time": "2021-12-02T07:43:11.234587Z"
    }
   },
   "outputs": [
    {
     "data": {
      "text/html": [
       "<div>\n",
       "<style scoped>\n",
       "    .dataframe tbody tr th:only-of-type {\n",
       "        vertical-align: middle;\n",
       "    }\n",
       "\n",
       "    .dataframe tbody tr th {\n",
       "        vertical-align: top;\n",
       "    }\n",
       "\n",
       "    .dataframe thead tr th {\n",
       "        text-align: left;\n",
       "    }\n",
       "</style>\n",
       "<table border=\"1\" class=\"dataframe\">\n",
       "  <thead>\n",
       "    <tr>\n",
       "      <th></th>\n",
       "      <th>x2</th>\n",
       "      <th>x3</th>\n",
       "    </tr>\n",
       "  </thead>\n",
       "  <tbody>\n",
       "    <tr>\n",
       "      <th>14</th>\n",
       "      <td>-0.93297</td>\n",
       "      <td>-0.699921</td>\n",
       "    </tr>\n",
       "  </tbody>\n",
       "</table>\n",
       "</div>"
      ],
      "text/plain": [
       "         x2        x3\n",
       "14 -0.93297 -0.699921"
      ]
     },
     "execution_count": 326,
     "metadata": {},
     "output_type": "execute_result"
    }
   ],
   "source": [
    "x2_x3, x1 = split_data(pd.DataFrame(sample).T)\n",
    "x2_x3"
   ]
  },
  {
   "cell_type": "code",
   "execution_count": 327,
   "id": "8096b4cb",
   "metadata": {
    "ExecuteTime": {
     "end_time": "2021-12-02T07:43:11.263475Z",
     "start_time": "2021-12-02T07:43:11.249511Z"
    }
   },
   "outputs": [],
   "source": [
    "predicted = reg.predict(x2_x3)"
   ]
  },
  {
   "cell_type": "code",
   "execution_count": 328,
   "id": "c0367b6f",
   "metadata": {
    "ExecuteTime": {
     "end_time": "2021-12-02T07:43:11.279429Z",
     "start_time": "2021-12-02T07:43:11.265468Z"
    }
   },
   "outputs": [
    {
     "data": {
      "text/html": [
       "<div>\n",
       "<style scoped>\n",
       "    .dataframe tbody tr th:only-of-type {\n",
       "        vertical-align: middle;\n",
       "    }\n",
       "\n",
       "    .dataframe tbody tr th {\n",
       "        vertical-align: top;\n",
       "    }\n",
       "\n",
       "    .dataframe thead tr th {\n",
       "        text-align: left;\n",
       "    }\n",
       "</style>\n",
       "<table border=\"1\" class=\"dataframe\">\n",
       "  <thead>\n",
       "    <tr>\n",
       "      <th></th>\n",
       "      <th>x1</th>\n",
       "    </tr>\n",
       "  </thead>\n",
       "  <tbody>\n",
       "    <tr>\n",
       "      <th>14</th>\n",
       "      <td>0.713535</td>\n",
       "    </tr>\n",
       "  </tbody>\n",
       "</table>\n",
       "</div>"
      ],
      "text/plain": [
       "          x1\n",
       "14  0.713535"
      ]
     },
     "execution_count": 328,
     "metadata": {},
     "output_type": "execute_result"
    }
   ],
   "source": [
    "get_MSE(predicted, x1)"
   ]
  },
  {
   "cell_type": "markdown",
   "id": "cc21ef8d",
   "metadata": {},
   "source": [
    "5. Повторить шаги 1-4 M = 100 раз. На каждой итерации на первом шаге использовать одни и те\n",
    "же параметры. Насколько «хорошо» прогнозируется значение x1. Усреднить квадрат ошибки\n",
    "(получим среднеквадратичную ошибку прогнозирования). Сделать выводы."
   ]
  },
  {
   "cell_type": "code",
   "execution_count": 329,
   "id": "3edee1ea",
   "metadata": {
    "ExecuteTime": {
     "end_time": "2021-12-02T07:43:11.295388Z",
     "start_time": "2021-12-02T07:43:11.280428Z"
    }
   },
   "outputs": [],
   "source": [
    "def MSE_n(reg):\n",
    "    boot = []\n",
    "    for i in range(1, 100):\n",
    "        X, y = split_data(df.iloc[i-1:i,])\n",
    "        predicted = reg.predict(X)\n",
    "        predicted = float(predicted)\n",
    "        MSE_stat = get_MSE(predicted, y)\n",
    "        boot.append(MSE_stat)\n",
    "\n",
    "    MSE_n = np.average(boot)\n",
    "\n",
    "    return MSE_n\n"
   ]
  },
  {
   "cell_type": "code",
   "execution_count": 330,
   "id": "a6147662",
   "metadata": {
    "ExecuteTime": {
     "end_time": "2021-12-02T07:43:11.579660Z",
     "start_time": "2021-12-02T07:43:11.297383Z"
    }
   },
   "outputs": [
    {
     "data": {
      "text/plain": [
       "0.10473052758125424"
      ]
     },
     "execution_count": 330,
     "metadata": {},
     "output_type": "execute_result"
    }
   ],
   "source": [
    "MSE_n(reg)"
   ]
  },
  {
   "cell_type": "markdown",
   "id": "a95c4ac9",
   "metadata": {},
   "source": [
    "## Разное"
   ]
  },
  {
   "cell_type": "markdown",
   "id": "095c452d",
   "metadata": {},
   "source": [
    "6. (+1 балл) **Найти истинные коэффициенты регрессии модели из пункта 3, сравнить\n",
    "полученные результаты.**"
   ]
  },
  {
   "cell_type": "code",
   "execution_count": 331,
   "id": "9c073cc1",
   "metadata": {
    "ExecuteTime": {
     "end_time": "2021-12-02T07:43:11.594588Z",
     "start_time": "2021-12-02T07:43:11.583618Z"
    }
   },
   "outputs": [],
   "source": [
    "# аналитический метод нахождения коэффициентов\n",
    "# не тот метод!!!\n",
    "\n",
    "def mse_analitic_solution(X, y):\n",
    "    ones = np.ones(shape=[X.shape[0], 1])\n",
    "    A = np.concatenate([ones, X], axis=1)\n",
    "    return np.linalg.inv((A.T.dot(A))).dot(A.T).dot(y)"
   ]
  },
  {
   "cell_type": "code",
   "execution_count": 332,
   "id": "55a7714c",
   "metadata": {
    "ExecuteTime": {
     "end_time": "2021-12-02T07:43:11.610545Z",
     "start_time": "2021-12-02T07:43:11.596583Z"
    }
   },
   "outputs": [
    {
     "name": "stdout",
     "output_type": "stream",
     "text": [
      "a2, a3:  [[0.35139388 0.56393849]]\n",
      "a0:\t [-0.31031051]\n"
     ]
    }
   ],
   "source": [
    "bw = mse_analitic_solution(X, y)\n",
    "w, b = bw[1:], bw[0]\n",
    "print(\"a2, a3: \", w.T)\n",
    "print(\"a0:\\t\", b)"
   ]
  },
  {
   "cell_type": "code",
   "execution_count": 333,
   "id": "c0a2a566",
   "metadata": {
    "ExecuteTime": {
     "end_time": "2021-12-02T07:43:11.626502Z",
     "start_time": "2021-12-02T07:43:11.612541Z"
    }
   },
   "outputs": [
    {
     "name": "stdout",
     "output_type": "stream",
     "text": [
      "[[0.35139388 0.56393849]] [-0.31031051]\n"
     ]
    }
   ],
   "source": [
    "print(reg.coef_, \n",
    "reg.intercept_)"
   ]
  },
  {
   "cell_type": "code",
   "execution_count": 334,
   "id": "bc09933e",
   "metadata": {
    "ExecuteTime": {
     "end_time": "2021-12-02T07:43:11.642502Z",
     "start_time": "2021-12-02T07:43:11.628497Z"
    }
   },
   "outputs": [
    {
     "data": {
      "text/html": [
       "<div>\n",
       "<style scoped>\n",
       "    .dataframe tbody tr th:only-of-type {\n",
       "        vertical-align: middle;\n",
       "    }\n",
       "\n",
       "    .dataframe tbody tr th {\n",
       "        vertical-align: top;\n",
       "    }\n",
       "\n",
       "    .dataframe thead tr th {\n",
       "        text-align: left;\n",
       "    }\n",
       "</style>\n",
       "<table border=\"1\" class=\"dataframe\">\n",
       "  <thead>\n",
       "    <tr>\n",
       "      <th></th>\n",
       "      <th>x1</th>\n",
       "      <th>x2</th>\n",
       "      <th>x3</th>\n",
       "    </tr>\n",
       "  </thead>\n",
       "  <tbody>\n",
       "    <tr>\n",
       "      <th>0</th>\n",
       "      <td>0.740796</td>\n",
       "      <td>1.141160</td>\n",
       "      <td>1.591445</td>\n",
       "    </tr>\n",
       "    <tr>\n",
       "      <th>1</th>\n",
       "      <td>4.001525</td>\n",
       "      <td>4.548335</td>\n",
       "      <td>4.324772</td>\n",
       "    </tr>\n",
       "    <tr>\n",
       "      <th>2</th>\n",
       "      <td>1.659484</td>\n",
       "      <td>1.744040</td>\n",
       "      <td>1.910333</td>\n",
       "    </tr>\n",
       "    <tr>\n",
       "      <th>3</th>\n",
       "      <td>-0.494733</td>\n",
       "      <td>-0.066164</td>\n",
       "      <td>0.319808</td>\n",
       "    </tr>\n",
       "    <tr>\n",
       "      <th>4</th>\n",
       "      <td>0.807990</td>\n",
       "      <td>0.519158</td>\n",
       "      <td>0.973485</td>\n",
       "    </tr>\n",
       "  </tbody>\n",
       "</table>\n",
       "</div>"
      ],
      "text/plain": [
       "         x1        x2        x3\n",
       "0  0.740796  1.141160  1.591445\n",
       "1  4.001525  4.548335  4.324772\n",
       "2  1.659484  1.744040  1.910333\n",
       "3 -0.494733 -0.066164  0.319808\n",
       "4  0.807990  0.519158  0.973485"
      ]
     },
     "execution_count": 334,
     "metadata": {},
     "output_type": "execute_result"
    }
   ],
   "source": [
    "df.head()"
   ]
  },
  {
   "cell_type": "code",
   "execution_count": 335,
   "id": "009bc087",
   "metadata": {
    "ExecuteTime": {
     "end_time": "2021-12-02T07:43:11.658418Z",
     "start_time": "2021-12-02T07:43:11.643457Z"
    }
   },
   "outputs": [
    {
     "data": {
      "text/plain": [
       "0.5256527956256279"
      ]
     },
     "execution_count": 335,
     "metadata": {},
     "output_type": "execute_result"
    }
   ],
   "source": [
    "mean[0]"
   ]
  },
  {
   "cell_type": "code",
   "execution_count": 336,
   "id": "0d98cc85",
   "metadata": {
    "ExecuteTime": {
     "end_time": "2021-12-02T07:43:11.674425Z",
     "start_time": "2021-12-02T07:43:11.660412Z"
    }
   },
   "outputs": [],
   "source": [
    "# x1 = a0 + a2x2 + a3x3 + u\n",
    "\n",
    "# x0 = a0 + a2x1 + a3x2 + u\n",
    "\n",
    "def real_coef(mean, cov):\n",
    "    cov_x = np.array([[cov[1,1], cov[1,2]], [cov[2,1], cov[2,2]]])\n",
    "    cov_x_i_y = np.array([[cov[0,1], cov[0,2]]])\n",
    "    mean_x = np.array([mean[1], mean[2]])\n",
    "    \n",
    "    coef = np.linalg.inv(cov_x) @ cov_x_i_y.T\n",
    "    intercept = mean[0] - coef.T @ mean_x\n",
    "    \n",
    "    return coef, intercept"
   ]
  },
  {
   "cell_type": "code",
   "execution_count": 337,
   "id": "d3e3228d",
   "metadata": {
    "ExecuteTime": {
     "end_time": "2021-12-02T07:43:11.690384Z",
     "start_time": "2021-12-02T07:43:11.675372Z"
    }
   },
   "outputs": [],
   "source": [
    "coef_real, intercept_real = real_coef(mean, cov)"
   ]
  },
  {
   "cell_type": "code",
   "execution_count": 338,
   "id": "bcb90337",
   "metadata": {
    "ExecuteTime": {
     "end_time": "2021-12-02T07:43:11.706316Z",
     "start_time": "2021-12-02T07:43:11.692326Z"
    }
   },
   "outputs": [
    {
     "name": "stdout",
     "output_type": "stream",
     "text": [
      "coef: \n",
      " [[0.34887006]\n",
      " [0.57262762]]\n",
      "intercept: [-0.31507673]\n"
     ]
    }
   ],
   "source": [
    "print(\"coef: \\n\", coef_real)\n",
    "print(\"intercept:\", intercept_real)"
   ]
  },
  {
   "cell_type": "code",
   "execution_count": 339,
   "id": "54c67638",
   "metadata": {
    "ExecuteTime": {
     "end_time": "2021-12-02T07:43:11.722280Z",
     "start_time": "2021-12-02T07:43:11.707288Z"
    }
   },
   "outputs": [
    {
     "name": "stdout",
     "output_type": "stream",
     "text": [
      "coef: \n",
      " [[0.35139388 0.56393849]]\n",
      "intercept: [-0.31031051]\n"
     ]
    }
   ],
   "source": [
    "print(\"coef: \\n\", reg.coef_)\n",
    "print(\"intercept:\", reg.intercept_)"
   ]
  },
  {
   "cell_type": "markdown",
   "id": "ceb96b71",
   "metadata": {},
   "source": [
    "7. (+0,5 балла) Предположим, что имеет место модель линейной регрессии: x1 = a2x2 + a3x3 + u,\n",
    "где u – независимые в совокупности нормально распределенные ошибки (остатки, residuals). Оценить\n",
    "коэффициенты линейной регрессии a2, a3, математическое ожидание и дисперсию ошибки u.\n",
    "Сравнить полученные результаты с результатами пункта 3. Сравнить среднеквадратическую ошибку\n",
    "прогнозирования в этом случае с ошибкой из пункта 5."
   ]
  },
  {
   "cell_type": "code",
   "execution_count": 340,
   "id": "9ca6e395",
   "metadata": {
    "ExecuteTime": {
     "end_time": "2021-12-02T07:43:11.738205Z",
     "start_time": "2021-12-02T07:43:11.723244Z"
    }
   },
   "outputs": [
    {
     "data": {
      "text/html": [
       "<div>\n",
       "<style scoped>\n",
       "    .dataframe tbody tr th:only-of-type {\n",
       "        vertical-align: middle;\n",
       "    }\n",
       "\n",
       "    .dataframe tbody tr th {\n",
       "        vertical-align: top;\n",
       "    }\n",
       "\n",
       "    .dataframe thead tr th {\n",
       "        text-align: left;\n",
       "    }\n",
       "</style>\n",
       "<table border=\"1\" class=\"dataframe\">\n",
       "  <thead>\n",
       "    <tr>\n",
       "      <th></th>\n",
       "      <th>x1</th>\n",
       "      <th>x2</th>\n",
       "      <th>x3</th>\n",
       "    </tr>\n",
       "  </thead>\n",
       "  <tbody>\n",
       "    <tr>\n",
       "      <th>0</th>\n",
       "      <td>0.740796</td>\n",
       "      <td>1.141160</td>\n",
       "      <td>1.591445</td>\n",
       "    </tr>\n",
       "    <tr>\n",
       "      <th>1</th>\n",
       "      <td>4.001525</td>\n",
       "      <td>4.548335</td>\n",
       "      <td>4.324772</td>\n",
       "    </tr>\n",
       "    <tr>\n",
       "      <th>2</th>\n",
       "      <td>1.659484</td>\n",
       "      <td>1.744040</td>\n",
       "      <td>1.910333</td>\n",
       "    </tr>\n",
       "    <tr>\n",
       "      <th>3</th>\n",
       "      <td>-0.494733</td>\n",
       "      <td>-0.066164</td>\n",
       "      <td>0.319808</td>\n",
       "    </tr>\n",
       "    <tr>\n",
       "      <th>4</th>\n",
       "      <td>0.807990</td>\n",
       "      <td>0.519158</td>\n",
       "      <td>0.973485</td>\n",
       "    </tr>\n",
       "  </tbody>\n",
       "</table>\n",
       "</div>"
      ],
      "text/plain": [
       "         x1        x2        x3\n",
       "0  0.740796  1.141160  1.591445\n",
       "1  4.001525  4.548335  4.324772\n",
       "2  1.659484  1.744040  1.910333\n",
       "3 -0.494733 -0.066164  0.319808\n",
       "4  0.807990  0.519158  0.973485"
      ]
     },
     "execution_count": 340,
     "metadata": {},
     "output_type": "execute_result"
    }
   ],
   "source": [
    "df = df.append(pd.DataFrame([list(sample)], columns=df.columns), ignore_index=True)\n",
    "df.head()"
   ]
  },
  {
   "cell_type": "code",
   "execution_count": 341,
   "id": "6eaf6360",
   "metadata": {
    "ExecuteTime": {
     "end_time": "2021-12-02T07:43:11.754207Z",
     "start_time": "2021-12-02T07:43:11.739202Z"
    }
   },
   "outputs": [
    {
     "data": {
      "text/html": [
       "<div>\n",
       "<style scoped>\n",
       "    .dataframe tbody tr th:only-of-type {\n",
       "        vertical-align: middle;\n",
       "    }\n",
       "\n",
       "    .dataframe tbody tr th {\n",
       "        vertical-align: top;\n",
       "    }\n",
       "\n",
       "    .dataframe thead tr th {\n",
       "        text-align: left;\n",
       "    }\n",
       "</style>\n",
       "<table border=\"1\" class=\"dataframe\">\n",
       "  <thead>\n",
       "    <tr>\n",
       "      <th></th>\n",
       "      <th>x1</th>\n",
       "      <th>x2</th>\n",
       "      <th>x3</th>\n",
       "    </tr>\n",
       "  </thead>\n",
       "  <tbody>\n",
       "    <tr>\n",
       "      <th>0</th>\n",
       "      <td>0.740796</td>\n",
       "      <td>1.141160</td>\n",
       "      <td>1.591445</td>\n",
       "    </tr>\n",
       "    <tr>\n",
       "      <th>1</th>\n",
       "      <td>4.001525</td>\n",
       "      <td>4.548335</td>\n",
       "      <td>4.324772</td>\n",
       "    </tr>\n",
       "    <tr>\n",
       "      <th>2</th>\n",
       "      <td>1.659484</td>\n",
       "      <td>1.744040</td>\n",
       "      <td>1.910333</td>\n",
       "    </tr>\n",
       "    <tr>\n",
       "      <th>3</th>\n",
       "      <td>-0.494733</td>\n",
       "      <td>-0.066164</td>\n",
       "      <td>0.319808</td>\n",
       "    </tr>\n",
       "    <tr>\n",
       "      <th>4</th>\n",
       "      <td>0.807990</td>\n",
       "      <td>0.519158</td>\n",
       "      <td>0.973485</td>\n",
       "    </tr>\n",
       "    <tr>\n",
       "      <th>...</th>\n",
       "      <td>...</td>\n",
       "      <td>...</td>\n",
       "      <td>...</td>\n",
       "    </tr>\n",
       "    <tr>\n",
       "      <th>96</th>\n",
       "      <td>1.568647</td>\n",
       "      <td>1.228072</td>\n",
       "      <td>1.488439</td>\n",
       "    </tr>\n",
       "    <tr>\n",
       "      <th>97</th>\n",
       "      <td>-0.499180</td>\n",
       "      <td>0.066971</td>\n",
       "      <td>0.351200</td>\n",
       "    </tr>\n",
       "    <tr>\n",
       "      <th>98</th>\n",
       "      <td>0.334169</td>\n",
       "      <td>0.553518</td>\n",
       "      <td>1.252545</td>\n",
       "    </tr>\n",
       "    <tr>\n",
       "      <th>99</th>\n",
       "      <td>2.853519</td>\n",
       "      <td>3.645883</td>\n",
       "      <td>3.403040</td>\n",
       "    </tr>\n",
       "    <tr>\n",
       "      <th>100</th>\n",
       "      <td>-0.188153</td>\n",
       "      <td>-0.932970</td>\n",
       "      <td>-0.699921</td>\n",
       "    </tr>\n",
       "  </tbody>\n",
       "</table>\n",
       "<p>101 rows × 3 columns</p>\n",
       "</div>"
      ],
      "text/plain": [
       "           x1        x2        x3\n",
       "0    0.740796  1.141160  1.591445\n",
       "1    4.001525  4.548335  4.324772\n",
       "2    1.659484  1.744040  1.910333\n",
       "3   -0.494733 -0.066164  0.319808\n",
       "4    0.807990  0.519158  0.973485\n",
       "..        ...       ...       ...\n",
       "96   1.568647  1.228072  1.488439\n",
       "97  -0.499180  0.066971  0.351200\n",
       "98   0.334169  0.553518  1.252545\n",
       "99   2.853519  3.645883  3.403040\n",
       "100 -0.188153 -0.932970 -0.699921\n",
       "\n",
       "[101 rows x 3 columns]"
      ]
     },
     "execution_count": 341,
     "metadata": {},
     "output_type": "execute_result"
    }
   ],
   "source": [
    "df"
   ]
  },
  {
   "cell_type": "code",
   "execution_count": 342,
   "id": "ddb65592",
   "metadata": {
    "ExecuteTime": {
     "end_time": "2021-12-02T07:43:11.770119Z",
     "start_time": "2021-12-02T07:43:11.755158Z"
    }
   },
   "outputs": [],
   "source": [
    "X, y = split_data(df)"
   ]
  },
  {
   "cell_type": "code",
   "execution_count": 343,
   "id": "b4cf4ef0",
   "metadata": {
    "ExecuteTime": {
     "end_time": "2021-12-02T07:43:11.786109Z",
     "start_time": "2021-12-02T07:43:11.772116Z"
    }
   },
   "outputs": [],
   "source": [
    "reg_full = LinearRegression().fit(X, y)"
   ]
  },
  {
   "cell_type": "code",
   "execution_count": 344,
   "id": "0415fe87",
   "metadata": {
    "ExecuteTime": {
     "end_time": "2021-12-02T07:43:11.802033Z",
     "start_time": "2021-12-02T07:43:11.787073Z"
    }
   },
   "outputs": [
    {
     "data": {
      "text/plain": [
       "array([[0.35113622, 0.55980513]])"
      ]
     },
     "execution_count": 344,
     "metadata": {},
     "output_type": "execute_result"
    }
   ],
   "source": [
    "reg_full.coef_"
   ]
  },
  {
   "cell_type": "code",
   "execution_count": 345,
   "id": "95098c07",
   "metadata": {
    "ExecuteTime": {
     "end_time": "2021-12-02T07:43:11.817990Z",
     "start_time": "2021-12-02T07:43:11.803031Z"
    }
   },
   "outputs": [
    {
     "data": {
      "text/plain": [
       "array([-0.29655286])"
      ]
     },
     "execution_count": 345,
     "metadata": {},
     "output_type": "execute_result"
    }
   ],
   "source": [
    "reg_full.intercept_"
   ]
  },
  {
   "cell_type": "code",
   "execution_count": 346,
   "id": "a1003c87",
   "metadata": {
    "ExecuteTime": {
     "end_time": "2021-12-02T07:43:11.833948Z",
     "start_time": "2021-12-02T07:43:11.818989Z"
    }
   },
   "outputs": [
    {
     "data": {
      "text/html": [
       "<div>\n",
       "<style scoped>\n",
       "    .dataframe tbody tr th:only-of-type {\n",
       "        vertical-align: middle;\n",
       "    }\n",
       "\n",
       "    .dataframe tbody tr th {\n",
       "        vertical-align: top;\n",
       "    }\n",
       "\n",
       "    .dataframe thead tr th {\n",
       "        text-align: left;\n",
       "    }\n",
       "</style>\n",
       "<table border=\"1\" class=\"dataframe\">\n",
       "  <thead>\n",
       "    <tr>\n",
       "      <th></th>\n",
       "      <th>x1</th>\n",
       "      <th>x2</th>\n",
       "      <th>x3</th>\n",
       "    </tr>\n",
       "  </thead>\n",
       "  <tbody>\n",
       "    <tr>\n",
       "      <th>0</th>\n",
       "      <td>0.740796</td>\n",
       "      <td>1.141160</td>\n",
       "      <td>1.591445</td>\n",
       "    </tr>\n",
       "    <tr>\n",
       "      <th>1</th>\n",
       "      <td>4.001525</td>\n",
       "      <td>4.548335</td>\n",
       "      <td>4.324772</td>\n",
       "    </tr>\n",
       "    <tr>\n",
       "      <th>2</th>\n",
       "      <td>1.659484</td>\n",
       "      <td>1.744040</td>\n",
       "      <td>1.910333</td>\n",
       "    </tr>\n",
       "    <tr>\n",
       "      <th>3</th>\n",
       "      <td>-0.494733</td>\n",
       "      <td>-0.066164</td>\n",
       "      <td>0.319808</td>\n",
       "    </tr>\n",
       "    <tr>\n",
       "      <th>4</th>\n",
       "      <td>0.807990</td>\n",
       "      <td>0.519158</td>\n",
       "      <td>0.973485</td>\n",
       "    </tr>\n",
       "  </tbody>\n",
       "</table>\n",
       "</div>"
      ],
      "text/plain": [
       "         x1        x2        x3\n",
       "0  0.740796  1.141160  1.591445\n",
       "1  4.001525  4.548335  4.324772\n",
       "2  1.659484  1.744040  1.910333\n",
       "3 -0.494733 -0.066164  0.319808\n",
       "4  0.807990  0.519158  0.973485"
      ]
     },
     "execution_count": 346,
     "metadata": {},
     "output_type": "execute_result"
    }
   ],
   "source": [
    "# x1 = a2x2 + a3x3 + u\n",
    "\n",
    "df.head()"
   ]
  },
  {
   "cell_type": "code",
   "execution_count": 347,
   "id": "fbc02b26",
   "metadata": {
    "ExecuteTime": {
     "end_time": "2021-12-02T07:43:11.848908Z",
     "start_time": "2021-12-02T07:43:11.835944Z"
    }
   },
   "outputs": [
    {
     "name": "stdout",
     "output_type": "stream",
     "text": [
      "a2, a3: [0.35139388 0.56393849]\n"
     ]
    }
   ],
   "source": [
    "X, y = split_data(df)\n",
    "\n",
    "reg_without_intercept = LinearRegression(fit_intercept=False).fit(X=X, y=y)\n",
    "\n",
    "print(\"a2, a3:\", *reg.coef_)"
   ]
  },
  {
   "cell_type": "code",
   "execution_count": 348,
   "id": "a8fb5426",
   "metadata": {
    "ExecuteTime": {
     "end_time": "2021-12-02T07:43:11.879858Z",
     "start_time": "2021-12-02T07:43:11.850903Z"
    }
   },
   "outputs": [
    {
     "name": "stdout",
     "output_type": "stream",
     "text": [
      "        mean       std\n",
      "x1 -0.164383  0.364188\n"
     ]
    },
    {
     "data": {
      "text/html": [
       "<div>\n",
       "<style scoped>\n",
       "    .dataframe tbody tr th:only-of-type {\n",
       "        vertical-align: middle;\n",
       "    }\n",
       "\n",
       "    .dataframe tbody tr th {\n",
       "        vertical-align: top;\n",
       "    }\n",
       "\n",
       "    .dataframe thead tr th {\n",
       "        text-align: left;\n",
       "    }\n",
       "</style>\n",
       "<table border=\"1\" class=\"dataframe\">\n",
       "  <thead>\n",
       "    <tr>\n",
       "      <th></th>\n",
       "      <th>x1</th>\n",
       "    </tr>\n",
       "  </thead>\n",
       "  <tbody>\n",
       "    <tr>\n",
       "      <th>0</th>\n",
       "      <td>-0.364232</td>\n",
       "    </tr>\n",
       "    <tr>\n",
       "      <th>1</th>\n",
       "      <td>0.127170</td>\n",
       "    </tr>\n",
       "    <tr>\n",
       "      <th>2</th>\n",
       "      <td>0.107702</td>\n",
       "    </tr>\n",
       "    <tr>\n",
       "      <th>3</th>\n",
       "      <td>-0.538870</td>\n",
       "    </tr>\n",
       "    <tr>\n",
       "      <th>4</th>\n",
       "      <td>0.239760</td>\n",
       "    </tr>\n",
       "    <tr>\n",
       "      <th>...</th>\n",
       "      <td>...</td>\n",
       "    </tr>\n",
       "    <tr>\n",
       "      <th>96</th>\n",
       "      <td>0.438333</td>\n",
       "    </tr>\n",
       "    <tr>\n",
       "      <th>97</th>\n",
       "      <td>-0.631726</td>\n",
       "    </tr>\n",
       "    <tr>\n",
       "      <th>98</th>\n",
       "      <td>-0.328026</td>\n",
       "    </tr>\n",
       "    <tr>\n",
       "      <th>99</th>\n",
       "      <td>-0.235399</td>\n",
       "    </tr>\n",
       "    <tr>\n",
       "      <th>100</th>\n",
       "      <td>0.557414</td>\n",
       "    </tr>\n",
       "  </tbody>\n",
       "</table>\n",
       "<p>101 rows × 1 columns</p>\n",
       "</div>"
      ],
      "text/plain": [
       "           x1\n",
       "0   -0.364232\n",
       "1    0.127170\n",
       "2    0.107702\n",
       "3   -0.538870\n",
       "4    0.239760\n",
       "..        ...\n",
       "96   0.438333\n",
       "97  -0.631726\n",
       "98  -0.328026\n",
       "99  -0.235399\n",
       "100  0.557414\n",
       "\n",
       "[101 rows x 1 columns]"
      ]
     },
     "execution_count": 348,
     "metadata": {},
     "output_type": "execute_result"
    }
   ],
   "source": [
    "get_residual(X, y, reg_without_intercept)"
   ]
  },
  {
   "cell_type": "code",
   "execution_count": 349,
   "id": "c118a438",
   "metadata": {
    "ExecuteTime": {
     "end_time": "2021-12-02T07:43:12.159888Z",
     "start_time": "2021-12-02T07:43:11.880821Z"
    }
   },
   "outputs": [
    {
     "data": {
      "text/plain": [
       "0.15784203512677458"
      ]
     },
     "execution_count": 349,
     "metadata": {},
     "output_type": "execute_result"
    }
   ],
   "source": [
    "MSE_n(reg_without_intercept)"
   ]
  },
  {
   "cell_type": "markdown",
   "id": "4d220954",
   "metadata": {},
   "source": [
    "## Графики"
   ]
  },
  {
   "cell_type": "markdown",
   "id": "fbc033de",
   "metadata": {},
   "source": [
    "8. (+1 балл) Сгенерировать выборку из пункта 1. На графике изобразить диаграмму рассеяния\n",
    "компонент x1 и x2. Предположим, что имеет место модель линейной регрессии: x1 = a0 + a2x2 + u.\n",
    "Оценить коэффициенты данной модели. Построить на графике линию регрессии x1 = a0 + a2x2."
   ]
  },
  {
   "cell_type": "code",
   "execution_count": 535,
   "id": "1201f8cc",
   "metadata": {
    "ExecuteTime": {
     "end_time": "2021-12-02T08:40:36.939612Z",
     "start_time": "2021-12-02T08:40:36.919675Z"
    }
   },
   "outputs": [
    {
     "data": {
      "text/html": [
       "<div>\n",
       "<style scoped>\n",
       "    .dataframe tbody tr th:only-of-type {\n",
       "        vertical-align: middle;\n",
       "    }\n",
       "\n",
       "    .dataframe tbody tr th {\n",
       "        vertical-align: top;\n",
       "    }\n",
       "\n",
       "    .dataframe thead tr th {\n",
       "        text-align: left;\n",
       "    }\n",
       "</style>\n",
       "<table border=\"1\" class=\"dataframe\">\n",
       "  <thead>\n",
       "    <tr>\n",
       "      <th></th>\n",
       "      <th>x1</th>\n",
       "      <th>x2</th>\n",
       "      <th>x3</th>\n",
       "    </tr>\n",
       "  </thead>\n",
       "  <tbody>\n",
       "    <tr>\n",
       "      <th>0</th>\n",
       "      <td>0.740796</td>\n",
       "      <td>1.141160</td>\n",
       "      <td>1.591445</td>\n",
       "    </tr>\n",
       "    <tr>\n",
       "      <th>1</th>\n",
       "      <td>4.001525</td>\n",
       "      <td>4.548335</td>\n",
       "      <td>4.324772</td>\n",
       "    </tr>\n",
       "    <tr>\n",
       "      <th>2</th>\n",
       "      <td>1.659484</td>\n",
       "      <td>1.744040</td>\n",
       "      <td>1.910333</td>\n",
       "    </tr>\n",
       "    <tr>\n",
       "      <th>3</th>\n",
       "      <td>-0.494733</td>\n",
       "      <td>-0.066164</td>\n",
       "      <td>0.319808</td>\n",
       "    </tr>\n",
       "    <tr>\n",
       "      <th>4</th>\n",
       "      <td>0.807990</td>\n",
       "      <td>0.519158</td>\n",
       "      <td>0.973485</td>\n",
       "    </tr>\n",
       "  </tbody>\n",
       "</table>\n",
       "</div>"
      ],
      "text/plain": [
       "         x1        x2        x3\n",
       "0  0.740796  1.141160  1.591445\n",
       "1  4.001525  4.548335  4.324772\n",
       "2  1.659484  1.744040  1.910333\n",
       "3 -0.494733 -0.066164  0.319808\n",
       "4  0.807990  0.519158  0.973485"
      ]
     },
     "execution_count": 535,
     "metadata": {},
     "output_type": "execute_result"
    }
   ],
   "source": [
    "df.head()"
   ]
  },
  {
   "cell_type": "code",
   "execution_count": 536,
   "id": "0cbb3ee1",
   "metadata": {
    "ExecuteTime": {
     "end_time": "2021-12-02T08:40:37.229152Z",
     "start_time": "2021-12-02T08:40:37.094605Z"
    }
   },
   "outputs": [
    {
     "data": {
      "text/plain": [
       "(-4.684041573819634, 5.105166566317408, -3.841066594531604, 5.563648642916626)"
      ]
     },
     "execution_count": 536,
     "metadata": {},
     "output_type": "execute_result"
    },
    {
     "data": {
      "image/png": "[encoded data removed]",
      "text/plain": [
       "<Figure size 576x576 with 1 Axes>"
      ]
     },
     "metadata": {},
     "output_type": "display_data"
    }
   ],
   "source": [
    "# mean = [1, 2, 2]\n",
    "# cov = [[1, 0, 0], [0, 0.5, 0], [0,0,2]]  # diagonal covariance\n",
    "\n",
    "# df = np.random.multivariate_normal(mean, cov, 1000).T\n",
    "\n",
    "import matplotlib.pyplot as plt\n",
    "plt.plot(df.iloc[:, 1], df.iloc[:, 2], 'o')\n",
    "plt.axis('equal')\n"
   ]
  },
  {
   "cell_type": "code",
   "execution_count": 537,
   "id": "8e9d57c4",
   "metadata": {
    "ExecuteTime": {
     "end_time": "2021-12-02T08:40:37.777273Z",
     "start_time": "2021-12-02T08:40:37.474425Z"
    }
   },
   "outputs": [
    {
     "data": {
      "text/plain": [
       "(-3.4135795382839573,\n",
       " 5.13616158666898,\n",
       " -4.6941089588664235,\n",
       " 5.3165816522999725)"
      ]
     },
     "execution_count": 537,
     "metadata": {},
     "output_type": "execute_result"
    },
    {
     "data": {
      "image/png": "[encoded data removed]",
      "text/plain": [
       "<Figure size 576x576 with 1 Axes>"
      ]
     },
     "metadata": {},
     "output_type": "display_data"
    }
   ],
   "source": [
    "sns.regplot(df.iloc[:, 2], df.iloc[:, 1])\n",
    "plt.axis('equal')"
   ]
  },
  {
   "cell_type": "markdown",
   "id": "6bc8fd3c",
   "metadata": {},
   "source": [
    "9. (+0,5 балла) Для остатков модели из пункта 8 (или пункта 3) построить q-q plot. Разобраться,\n",
    "что на нем изображается и дать содержательную интерпретацию того, что получилось в вашем\n",
    "случае."
   ]
  },
  {
   "cell_type": "code",
   "execution_count": 538,
   "id": "57b58623",
   "metadata": {
    "ExecuteTime": {
     "end_time": "2021-12-02T08:40:38.826550Z",
     "start_time": "2021-12-02T08:40:38.806605Z"
    }
   },
   "outputs": [
    {
     "name": "stdout",
     "output_type": "stream",
     "text": [
      "            mean       std\n",
      "x1 -1.780754e-16  0.405538\n"
     ]
    }
   ],
   "source": [
    "# x1 = a0 + a2x2 + u.\n",
    "X = df[\"x2\"]\n",
    "y = df[\"x1\"]\n",
    "\n",
    "reg_8 = LinearRegression(fit_intercept=True).fit(X, y) \n",
    "\n",
    "residuals = get_residual(X, y, reg_8)"
   ]
  },
  {
   "cell_type": "markdown",
   "id": "d5b879a7",
   "metadata": {},
   "source": [
    "## Хи-квадрат критерий Пирсона\n"
   ]
  },
  {
   "cell_type": "markdown",
   "id": "91911321",
   "metadata": {},
   "source": [
    "10. (+2 балл) Реализовать хи-квадрат критерий Пирсона для проверки гипотезы о том, что\n",
    "остатки модели из пункта 3 имеют нормальный закон распределения. Из встроенных функций\n",
    "разрешается использовать только функции распределения (cdf), плотности (pdf) и функции для\n",
    "вычисления квантилей различных законов распределений (quantiles)."
   ]
  },
  {
   "cell_type": "code",
   "execution_count": 539,
   "id": "80d781ba",
   "metadata": {
    "ExecuteTime": {
     "end_time": "2021-12-02T08:40:39.735076Z",
     "start_time": "2021-12-02T08:40:39.720113Z"
    }
   },
   "outputs": [
    {
     "name": "stdout",
     "output_type": "stream",
     "text": [
      "mean:  -1.692815304874001e-16 std:  0.4035254730994696\n"
     ]
    }
   ],
   "source": [
    "X_bar = residuals.values.mean()\n",
    "s = residuals.values.std()\n",
    "\n",
    "print(\"mean: \", X_bar, \"std: \", s)"
   ]
  },
  {
   "cell_type": "code",
   "execution_count": 540,
   "id": "6d0ed946",
   "metadata": {
    "ExecuteTime": {
     "end_time": "2021-12-02T08:40:41.614747Z",
     "start_time": "2021-12-02T08:40:41.591995Z"
    }
   },
   "outputs": [],
   "source": [
    "residuals = np.array(residuals)\n",
    "residuals = residuals.reshape(101)"
   ]
  },
  {
   "cell_type": "code",
   "execution_count": 541,
   "id": "fcc936f8",
   "metadata": {
    "ExecuteTime": {
     "end_time": "2021-12-02T08:40:42.088858Z",
     "start_time": "2021-12-02T08:40:42.076859Z"
    }
   },
   "outputs": [],
   "source": [
    "from scipy.stats import chi2, norm"
   ]
  },
  {
   "cell_type": "code",
   "execution_count": 542,
   "id": "cc499f8a",
   "metadata": {
    "ExecuteTime": {
     "end_time": "2021-12-02T08:40:42.895786Z",
     "start_time": "2021-12-02T08:40:42.884799Z"
    }
   },
   "outputs": [],
   "source": [
    "# Плотность вероятности (Probability density function)     (pdf)\n",
    "# Функция распределения (Cumulative distribution function) (cdf)\n",
    "# Функция квантилей (Quantile function) (ppf) (если cdf = f(x), то ppf = (f(x))^-1)\n",
    "\n",
    "# PDF: Probability Density Function, returns the probability of a given continuous outcome.\n",
    "# CDF: Cumulative Distribution Function, returns the probability of a value less than or equal to a given outcome.\n",
    "# PPF: Percent-Point Function, returns a discrete value that is less than or equal to the given probability.\n"
   ]
  },
  {
   "cell_type": "code",
   "execution_count": 543,
   "id": "8ee51525",
   "metadata": {
    "ExecuteTime": {
     "end_time": "2021-12-02T08:40:43.320826Z",
     "start_time": "2021-12-02T08:40:43.310852Z"
    }
   },
   "outputs": [],
   "source": [
    "def calc_bins(k):\n",
    "    bins = [-float(\"inf\")]\n",
    "    for i in range(k-1):\n",
    "        p = (i+1) / k\n",
    "        z = norm.ppf(p)\n",
    "        bound = X_bar + z*s\n",
    "        bins.append(bound)\n",
    "    bins.append(float(\"inf\"))\n",
    "    return bins\n",
    "\n",
    "bins = calc_bins(20)"
   ]
  },
  {
   "cell_type": "code",
   "execution_count": 544,
   "id": "727f5c34",
   "metadata": {
    "ExecuteTime": {
     "end_time": "2021-12-02T08:40:43.763722Z",
     "start_time": "2021-12-02T08:40:43.748728Z"
    }
   },
   "outputs": [
    {
     "data": {
      "text/plain": [
       "[-inf,\n",
       " -0.6637403379949718,\n",
       " -0.517138701787751,\n",
       " -0.41822727383156855,\n",
       " -0.3396156064480696,\n",
       " -0.27217379554861715,\n",
       " -0.2116089649841168,\n",
       " -0.15548662350202222,\n",
       " -0.10223200965125387,\n",
       " -0.05070755444001046,\n",
       " -1.692815304874001e-16,\n",
       " 0.05070755444001018,\n",
       " 0.10223200965125354,\n",
       " 0.1554866235020219,\n",
       " 0.21160896498411638,\n",
       " 0.2721737955486168,\n",
       " 0.3396156064480693,\n",
       " 0.4182272738315682,\n",
       " 0.5171387017877506,\n",
       " 0.6637403379949711,\n",
       " inf]"
      ]
     },
     "execution_count": 544,
     "metadata": {},
     "output_type": "execute_result"
    }
   ],
   "source": [
    "bins"
   ]
  },
  {
   "cell_type": "code",
   "execution_count": 545,
   "id": "209a5d6f",
   "metadata": {
    "ExecuteTime": {
     "end_time": "2021-12-02T08:40:44.142856Z",
     "start_time": "2021-12-02T08:40:44.130880Z"
    }
   },
   "outputs": [],
   "source": [
    "def observed_expected_freq(residuals, bins, k):\n",
    "    frequency = []\n",
    "    boot_obs, boot_expect = [], []\n",
    "    expected = np.round(len(residuals) / k)\n",
    "#     print(\"observed   expected\")\n",
    "    for i in range(k):\n",
    "        observed = sum(num >= bins[i] and num < bins[i+1] for num in residuals)\n",
    "#         expected = sum(num >= bins[i] and num < bins[i+1] for num in normal) / 1000\n",
    "#         expected = 5\n",
    "#         print(observed,\"\\t  \", expected)\n",
    "        frequency.append((observed, expected))\n",
    "    return frequency\n"
   ]
  },
  {
   "cell_type": "code",
   "execution_count": 546,
   "id": "509d63fe",
   "metadata": {
    "ExecuteTime": {
     "end_time": "2021-12-02T08:40:44.346376Z",
     "start_time": "2021-12-02T08:40:44.324418Z"
    },
    "scrolled": true
   },
   "outputs": [],
   "source": [
    "frequency = observed_expected_freq(residuals, bins, 20)"
   ]
  },
  {
   "cell_type": "code",
   "execution_count": 547,
   "id": "abc40c80",
   "metadata": {
    "ExecuteTime": {
     "end_time": "2021-12-02T08:40:44.517890Z",
     "start_time": "2021-12-02T08:40:44.499938Z"
    }
   },
   "outputs": [],
   "source": [
    "def mine_chi_square(k):\n",
    "    bins = calc_bins(k)\n",
    "    frequency = observed_expected_freq(residuals, bins, k)\n",
    "    \n",
    "    # ddof = k - 3\n",
    "    crit = chi2.ppf(0.95, k - 3)\n",
    "    chi_square = sum([(x[0] - x[1])**2./x[1] for x in frequency])\n",
    "    p_value = 1 - chi2.cdf(chi_square, k - 3)\n",
    "    print(\"chi_square: \\t\", chi_square, \"\\ncrit: \\t\\t\", crit, \"\\np_value: \\t\", p_value)\n",
    "    return chi_square, crit, p_value"
   ]
  },
  {
   "cell_type": "code",
   "execution_count": 548,
   "id": "73ac0286",
   "metadata": {
    "ExecuteTime": {
     "end_time": "2021-12-02T08:40:44.681757Z",
     "start_time": "2021-12-02T08:40:44.663616Z"
    },
    "scrolled": true
   },
   "outputs": [
    {
     "name": "stdout",
     "output_type": "stream",
     "text": [
      "chi_square: \t 17.8 \n",
      "crit: \t\t 27.58711163827534 \n",
      "p_value: \t 0.4015621606313511\n"
     ]
    }
   ],
   "source": [
    "chi_square, crit, p_value = mine_chi_square(20)"
   ]
  },
  {
   "cell_type": "code",
   "execution_count": 549,
   "id": "fcb3e4a9",
   "metadata": {
    "ExecuteTime": {
     "end_time": "2021-12-02T08:40:44.832794Z",
     "start_time": "2021-12-02T08:40:44.826079Z"
    }
   },
   "outputs": [],
   "source": [
    "# print(\"chi_square: \\t\", chi_square, \"\\ncrit: \\t\\t\", crit, \"\\np_value: \\t\", p_value)"
   ]
  },
  {
   "cell_type": "markdown",
   "id": "1eb59af0",
   "metadata": {},
   "source": [
    "11. (+0,5 балла) Сравнить полученные результаты с результатами работы встроенного теста."
   ]
  },
  {
   "cell_type": "code",
   "execution_count": 550,
   "id": "5a7f678b",
   "metadata": {
    "ExecuteTime": {
     "end_time": "2021-12-02T08:40:45.140893Z",
     "start_time": "2021-12-02T08:40:45.124914Z"
    }
   },
   "outputs": [],
   "source": [
    "from scipy.stats import chisquare"
   ]
  },
  {
   "cell_type": "code",
   "execution_count": 551,
   "id": "933a1091",
   "metadata": {
    "ExecuteTime": {
     "end_time": "2021-12-02T08:40:45.515556Z",
     "start_time": "2021-12-02T08:40:45.498222Z"
    }
   },
   "outputs": [
    {
     "data": {
      "text/plain": [
       "Power_divergenceResult(statistic=17.8, pvalue=0.40156216063135103)"
      ]
     },
     "execution_count": 551,
     "metadata": {},
     "output_type": "execute_result"
    }
   ],
   "source": [
    "chisquare(f_obs = boot_obs, f_exp = boot_expect, ddof=2) # k - 1 - ddof => если k = 20, тогда ddof = 2"
   ]
  },
  {
   "cell_type": "markdown",
   "id": "7bc1cf6b",
   "metadata": {},
   "source": [
    "12. (+0,5 балла) Определить, для каких значений k числа интервалов нулевая гипотеза\n",
    "принимается, для каких отвергается (k изменять от 3 до 50)."
   ]
  },
  {
   "cell_type": "code",
   "execution_count": 552,
   "id": "556af8a1",
   "metadata": {
    "ExecuteTime": {
     "end_time": "2021-12-02T08:40:46.143276Z",
     "start_time": "2021-12-02T08:40:46.135286Z"
    }
   },
   "outputs": [
    {
     "name": "stdout",
     "output_type": "stream",
     "text": [
      "\u001b[1mHello World !\u001b[0m\n"
     ]
    }
   ],
   "source": [
    "class color:\n",
    "    GREEN = '\\033[92m'\n",
    "    RED = '\\033[91m'\n",
    "    BOLD = '\\033[1m'\n",
    "    END = '\\033[0m'\n",
    "\n",
    "print(color.BOLD + 'Hello World !' + color.END)"
   ]
  },
  {
   "cell_type": "code",
   "execution_count": 553,
   "id": "144f8f95",
   "metadata": {
    "ExecuteTime": {
     "end_time": "2021-12-02T08:40:46.790124Z",
     "start_time": "2021-12-02T08:40:46.294114Z"
    }
   },
   "outputs": [
    {
     "name": "stdout",
     "output_type": "stream",
     "text": [
      "chi_square: \t 2.2800000000000002 \n",
      "crit: \t\t 3.841458820694124 \n",
      "p_value: \t 0.13105187368373616\n",
      "4 :  \u001b[1m\u001b[92mTAKE H0 hypothesis\u001b[0m \n",
      "\n",
      "chi_square: \t 0.95 \n",
      "crit: \t\t 5.991464547107979 \n",
      "p_value: \t 0.6218850564650201\n",
      "5 :  \u001b[1m\u001b[92mTAKE H0 hypothesis\u001b[0m \n",
      "\n",
      "chi_square: \t 4.176470588235294 \n",
      "crit: \t\t 7.814727903251179 \n",
      "p_value: \t 0.24302820861361252\n",
      "6 :  \u001b[1m\u001b[92mTAKE H0 hypothesis\u001b[0m \n",
      "\n",
      "chi_square: \t 6.214285714285714 \n",
      "crit: \t\t 9.487729036781154 \n",
      "p_value: \t 0.1837066221013628\n",
      "7 :  \u001b[1m\u001b[92mTAKE H0 hypothesis\u001b[0m \n",
      "\n",
      "chi_square: \t 3.6153846153846154 \n",
      "crit: \t\t 11.070497693516351 \n",
      "p_value: \t 0.6060048509918468\n",
      "8 :  \u001b[1m\u001b[92mTAKE H0 hypothesis\u001b[0m \n",
      "\n",
      "chi_square: \t 4.181818181818182 \n",
      "crit: \t\t 12.591587243743977 \n",
      "p_value: \t 0.6520865626722352\n",
      "9 :  \u001b[1m\u001b[92mTAKE H0 hypothesis\u001b[0m \n",
      "\n",
      "chi_square: \t 4.1 \n",
      "crit: \t\t 14.067140449340169 \n",
      "p_value: \t 0.768190036531649\n",
      "10 :  \u001b[1m\u001b[92mTAKE H0 hypothesis\u001b[0m \n",
      "\n",
      "chi_square: \t 6.666666666666667 \n",
      "crit: \t\t 15.50731305586545 \n",
      "p_value: \t 0.5729859919108071\n",
      "11 :  \u001b[1m\u001b[92mTAKE H0 hypothesis\u001b[0m \n",
      "\n",
      "chi_square: \t 13.125 \n",
      "crit: \t\t 16.918977604620448 \n",
      "p_value: \t 0.15703124215238495\n",
      "12 :  \u001b[1m\u001b[92mTAKE H0 hypothesis\u001b[0m \n",
      "\n",
      "chi_square: \t 6.375 \n",
      "crit: \t\t 18.307038053275146 \n",
      "p_value: \t 0.78283517350964\n",
      "13 :  \u001b[1m\u001b[92mTAKE H0 hypothesis\u001b[0m \n",
      "\n",
      "chi_square: \t 11.571428571428571 \n",
      "crit: \t\t 19.67513757268249 \n",
      "p_value: \t 0.39670349355303336\n",
      "14 :  \u001b[1m\u001b[92mTAKE H0 hypothesis\u001b[0m \n",
      "\n",
      "chi_square: \t 10.285714285714283 \n",
      "crit: \t\t 21.02606981748307 \n",
      "p_value: \t 0.5909106903283627\n",
      "15 :  \u001b[1m\u001b[92mTAKE H0 hypothesis\u001b[0m \n",
      "\n",
      "chi_square: \t 14.5 \n",
      "crit: \t\t 22.362032494826934 \n",
      "p_value: \t 0.33959675008127466\n",
      "16 :  \u001b[1m\u001b[92mTAKE H0 hypothesis\u001b[0m \n",
      "\n",
      "chi_square: \t 14.833333333333334 \n",
      "crit: \t\t 23.684791304840576 \n",
      "p_value: \t 0.3896419220834997\n",
      "17 :  \u001b[1m\u001b[92mTAKE H0 hypothesis\u001b[0m \n",
      "\n",
      "chi_square: \t 21.166666666666664 \n",
      "crit: \t\t 24.995790139728616 \n",
      "p_value: \t 0.13158825295582344\n",
      "18 :  \u001b[1m\u001b[92mTAKE H0 hypothesis\u001b[0m \n",
      "\n",
      "chi_square: \t 13.199999999999996 \n",
      "crit: \t\t 26.29622760486423 \n",
      "p_value: \t 0.6580820054012149\n",
      "19 :  \u001b[1m\u001b[92mTAKE H0 hypothesis\u001b[0m \n",
      "\n",
      "chi_square: \t 17.8 \n",
      "crit: \t\t 27.58711163827534 \n",
      "p_value: \t 0.4015621606313511\n",
      "20 :  \u001b[1m\u001b[92mTAKE H0 hypothesis\u001b[0m \n",
      "\n",
      "chi_square: \t 28.400000000000006 \n",
      "crit: \t\t 28.869299430392623 \n",
      "p_value: \t 0.05622320944107417\n",
      "21 :  \u001b[1m\u001b[92mTAKE H0 hypothesis\u001b[0m \n",
      "\n",
      "chi_square: \t 21.799999999999997 \n",
      "crit: \t\t 30.14352720564616 \n",
      "p_value: \t 0.294322762536424\n",
      "22 :  \u001b[1m\u001b[92mTAKE H0 hypothesis\u001b[0m \n",
      "\n",
      "chi_square: \t 27.25 \n",
      "crit: \t\t 31.410432844230918 \n",
      "p_value: \t 0.12837582281030713\n",
      "23 :  \u001b[1m\u001b[92mTAKE H0 hypothesis\u001b[0m \n",
      "\n",
      "chi_square: \t 32.75 \n",
      "crit: \t\t 32.670573340917315 \n",
      "p_value: \t 0.04906379369800651\n",
      "24 :  \u001b[1m\u001b[91mREGECT H0 hypothesis\u001b[0m \n",
      "\n",
      "chi_square: \t 22.25 \n",
      "crit: \t\t 33.92443847144381 \n",
      "p_value: \t 0.44505407623032167\n",
      "25 :  \u001b[1m\u001b[92mTAKE H0 hypothesis\u001b[0m \n",
      "\n",
      "chi_square: \t 19.75 \n",
      "crit: \t\t 35.17246162690806 \n",
      "p_value: \t 0.6569419490651829\n",
      "26 :  \u001b[1m\u001b[92mTAKE H0 hypothesis\u001b[0m \n",
      "\n",
      "chi_square: \t 21.75 \n",
      "crit: \t\t 36.41502850180731 \n",
      "p_value: \t 0.594185468270741\n",
      "27 :  \u001b[1m\u001b[92mTAKE H0 hypothesis\u001b[0m \n",
      "\n",
      "chi_square: \t 28.25 \n",
      "crit: \t\t 37.65248413348277 \n",
      "p_value: \t 0.29647352940380234\n",
      "28 :  \u001b[1m\u001b[92mTAKE H0 hypothesis\u001b[0m \n",
      "\n",
      "chi_square: \t 38.666666666666664 \n",
      "crit: \t\t 38.885138659830055 \n",
      "p_value: \t 0.052445434541663394\n",
      "29 :  \u001b[1m\u001b[92mTAKE H0 hypothesis\u001b[0m \n",
      "\n",
      "chi_square: \t 33.666666666666664 \n",
      "crit: \t\t 40.113272069413625 \n",
      "p_value: \t 0.17595222450938397\n",
      "30 :  \u001b[1m\u001b[92mTAKE H0 hypothesis\u001b[0m \n",
      "\n",
      "chi_square: \t 27.333333333333325 \n",
      "crit: \t\t 41.33713815142739 \n",
      "p_value: \t 0.5001565700218804\n",
      "31 :  \u001b[1m\u001b[92mTAKE H0 hypothesis\u001b[0m \n",
      "\n",
      "chi_square: \t 30.99999999999999 \n",
      "crit: \t\t 42.55696780429269 \n",
      "p_value: \t 0.36542432138722036\n",
      "32 :  \u001b[1m\u001b[92mTAKE H0 hypothesis\u001b[0m \n",
      "\n",
      "chi_square: \t 41.99999999999999 \n",
      "crit: \t\t 43.77297182574219 \n",
      "p_value: \t 0.07157372845818866\n",
      "33 :  \u001b[1m\u001b[92mTAKE H0 hypothesis\u001b[0m \n",
      "\n",
      "chi_square: \t 31.666666666666657 \n",
      "crit: \t\t 44.98534328036513 \n",
      "p_value: \t 0.43301163744784277\n",
      "34 :  \u001b[1m\u001b[92mTAKE H0 hypothesis\u001b[0m \n",
      "\n",
      "chi_square: \t 35.33333333333333 \n",
      "crit: \t\t 46.19425952027847 \n",
      "p_value: \t 0.3135623293511588\n",
      "35 :  \u001b[1m\u001b[92mTAKE H0 hypothesis\u001b[0m \n",
      "\n",
      "chi_square: \t 38.33333333333332 \n",
      "crit: \t\t 47.39988391908093 \n",
      "p_value: \t 0.2403265590017425\n",
      "36 :  \u001b[1m\u001b[92mTAKE H0 hypothesis\u001b[0m \n",
      "\n",
      "chi_square: \t 29.999999999999993 \n",
      "crit: \t\t 48.602367367294164 \n",
      "p_value: \t 0.6641232006065443\n",
      "37 :  \u001b[1m\u001b[92mTAKE H0 hypothesis\u001b[0m \n",
      "\n",
      "chi_square: \t 36.333333333333336 \n",
      "crit: \t\t 49.80184956820181 \n",
      "p_value: \t 0.4063578508021435\n",
      "38 :  \u001b[1m\u001b[92mTAKE H0 hypothesis\u001b[0m \n",
      "\n",
      "chi_square: \t 35.33333333333332 \n",
      "crit: \t\t 50.99846016571065 \n",
      "p_value: \t 0.5001064477329706\n",
      "39 :  \u001b[1m\u001b[92mTAKE H0 hypothesis\u001b[0m \n",
      "\n",
      "chi_square: \t 43.66666666666667 \n",
      "crit: \t\t 52.192319730102895 \n",
      "p_value: \t 0.20917390594092755\n",
      "40 :  \u001b[1m\u001b[92mTAKE H0 hypothesis\u001b[0m \n",
      "\n",
      "chi_square: \t 72.5 \n",
      "crit: \t\t 53.383540622969356 \n",
      "p_value: \t 0.0006262340369745933\n",
      "41 :  \u001b[1m\u001b[91mREGECT H0 hypothesis\u001b[0m \n",
      "\n",
      "chi_square: \t 76.5 \n",
      "crit: \t\t 54.572227758941736 \n",
      "p_value: \t 0.00031179805934489213\n",
      "42 :  \u001b[1m\u001b[91mREGECT H0 hypothesis\u001b[0m \n",
      "\n",
      "chi_square: \t 56.5 \n",
      "crit: \t\t 55.75847927888702 \n",
      "p_value: \t 0.043529874813634795\n",
      "43 :  \u001b[1m\u001b[91mREGECT H0 hypothesis\u001b[0m \n",
      "\n",
      "chi_square: \t 64.5 \n",
      "crit: \t\t 56.94238714682408 \n",
      "p_value: \t 0.011024343147872595\n",
      "44 :  \u001b[1m\u001b[91mREGECT H0 hypothesis\u001b[0m \n",
      "\n",
      "chi_square: \t 50.5 \n",
      "crit: \t\t 58.12403768086803 \n",
      "p_value: \t 0.17283622410341093\n",
      "45 :  \u001b[1m\u001b[92mTAKE H0 hypothesis\u001b[0m \n",
      "\n",
      "chi_square: \t 63.5 \n",
      "crit: \t\t 59.30351202689981 \n",
      "p_value: \t 0.022611416364173298\n",
      "46 :  \u001b[1m\u001b[91mREGECT H0 hypothesis\u001b[0m \n",
      "\n",
      "chi_square: \t 60.5 \n",
      "crit: \t\t 60.480886582336446 \n",
      "p_value: \t 0.049830009795681085\n",
      "47 :  \u001b[1m\u001b[91mREGECT H0 hypothesis\u001b[0m \n",
      "\n",
      "chi_square: \t 63.5 \n",
      "crit: \t\t 61.65623337627955 \n",
      "p_value: \t 0.03584119277679432\n",
      "48 :  \u001b[1m\u001b[91mREGECT H0 hypothesis\u001b[0m \n",
      "\n",
      "chi_square: \t 68.5 \n",
      "crit: \t\t 62.829620411408165 \n",
      "p_value: \t 0.017326784587384236\n",
      "49 :  \u001b[1m\u001b[91mREGECT H0 hypothesis\u001b[0m \n",
      "\n"
     ]
    }
   ],
   "source": [
    "boot_chi_square = []\n",
    "for i in range(4, 50):\n",
    "    chi_square, crit, p_value = mine_chi_square(i)\n",
    "    if chi_square >= crit:\n",
    "        print(i, \": \", color.BOLD + color.RED + \"REGECT H0 hypothesis\" + color.END, \"\\n\")\n",
    "    else:\n",
    "        print(i, \": \", color.BOLD + color.GREEN + \"TAKE H0 hypothesis\" + color.END, \"\\n\")"
   ]
  },
  {
   "cell_type": "markdown",
   "id": "5b39481d",
   "metadata": {},
   "source": [
    "## Переобучение (over fitting)"
   ]
  },
  {
   "cell_type": "markdown",
   "id": "6a81076e",
   "metadata": {
    "ExecuteTime": {
     "end_time": "2021-11-18T14:35:06.171326Z",
     "start_time": "2021-11-18T14:35:06.162848Z"
    }
   },
   "source": [
    "13. (+1 балл). Сгенерировать M выборок из двумерного нормального закона распределения\n",
    "объема N с нулевым математическим ожиданием и недиагональной матрицей ковариации. В каждой\n",
    "выборке случайным образом выбрать 10% наблюдений, которые исключаются из выборки и\n",
    "хранятся отдельно (проверочные выборки). По оставшимся наблюдениям оценить коэффициенты\n",
    "регрессии \n",
    "u для фиксированного параметра p. Спрогнозировать\n",
    "значения x1 для проверочных выборок и найти среднеквадратическую ошибку прогнозирования\n",
    "(усреднение идет по объему проверочной выборки и по M). Изучить, как изменяется\n",
    "среднеквадратическая ошибка прогнозирования в зависимости от p."
   ]
  },
  {
   "cell_type": "code",
   "execution_count": 683,
   "id": "c0534a7c",
   "metadata": {
    "ExecuteTime": {
     "end_time": "2021-12-02T09:07:03.232269Z",
     "start_time": "2021-12-02T09:07:03.218306Z"
    }
   },
   "outputs": [],
   "source": [
    "from sklearn.model_selection import train_test_split\n",
    "from sklearn.metrics import mean_squared_error\n",
    "from sklearn.metrics import r2_score"
   ]
  },
  {
   "cell_type": "code",
   "execution_count": 759,
   "id": "b45dc780",
   "metadata": {
    "ExecuteTime": {
     "end_time": "2021-12-02T09:23:32.858829Z",
     "start_time": "2021-12-02T09:23:32.843536Z"
    }
   },
   "outputs": [],
   "source": [
    "def task_10(N, p, M):\n",
    "\n",
    "    for m in range(M):\n",
    "        mean, cov = get_mean()[0:2], get_cov()[0:2, 0:2]\n",
    "\n",
    "        df = np.random.multivariate_normal(mean, cov, N)\n",
    "        df = pd.DataFrame(data=df, columns=[[\"x1\", \"x2_1\"]])\n",
    "\n",
    "        for i in range(2, p+1):\n",
    "            df[\"x2_\" + str(i)] = df[\"x2_1\"] ** i\n",
    "\n",
    "        train, test = train_test_split(df, test_size=0.1)\n",
    "\n",
    "        model = LinearRegression()\n",
    "        model.fit(X=train.drop(columns=[\"x1\"]), y=train.x1)\n",
    "\n",
    "        pred_test = model.predict(test.drop(columns=[\"x1\"]))\n",
    "        pred_train = model.predict(train.drop(columns=[\"x1\"]))\n",
    "        \n",
    "        mse_test = mean_squared_error(pred_test, test.x1)\n",
    "        mse_train = mean_squared_error(pred_train, train.x1)\n",
    "        \n",
    "        print(\"M =\", m+1 , color.BOLD + \"\\tTest data:\" + color.END,  \"\\tMSE:\",\n",
    "              mse_test, \"\\n\\t\\t\\tR_2:\", r2_score(pred_test, test.x1))\n",
    "        print(color.BOLD + \"\\tTrain data:\" + color.END,  \"\\tMSE:\", mse_train, \"\\n\\t\\t\\tR_2:\", r2_score(pred_train, train.x1))\n",
    "        if (abs(mse_train - mse_test) > 3):\n",
    "            print(color.RED + color.BOLD + \"OVERFITTUING!!!\" + color.END)\n",
    "        print()"
   ]
  },
  {
   "cell_type": "code",
   "execution_count": 760,
   "id": "d0e3f140",
   "metadata": {
    "ExecuteTime": {
     "end_time": "2021-12-02T09:23:33.141562Z",
     "start_time": "2021-12-02T09:23:32.958090Z"
    }
   },
   "outputs": [
    {
     "name": "stdout",
     "output_type": "stream",
     "text": [
      "M = 1 \u001b[1m\tTest data:\u001b[0m \tMSE: 2.1548745911785203 \n",
      "\t\t\tR_2: 0.995619089349465\n",
      "\u001b[1m\tTrain data:\u001b[0m \tMSE: 1.6506100147617808 \n",
      "\t\t\tR_2: 0.9963457588907871\n",
      "\n",
      "M = 2 \u001b[1m\tTest data:\u001b[0m \tMSE: 11.210699174435906 \n",
      "\t\t\tR_2: 0.9850940917123245\n",
      "\u001b[1m\tTrain data:\u001b[0m \tMSE: 10.88871607878437 \n",
      "\t\t\tR_2: 0.977997360794852\n",
      "\n",
      "M = 3 \u001b[1m\tTest data:\u001b[0m \tMSE: 23.961049534884317 \n",
      "\t\t\tR_2: 0.9104025028830445\n",
      "\u001b[1m\tTrain data:\u001b[0m \tMSE: 42.2777916509715 \n",
      "\t\t\tR_2: 0.9047203375456959\n",
      "\u001b[91m\u001b[1mOVERFITTUING!!!\u001b[0m\n",
      "\n",
      "M = 4 \u001b[1m\tTest data:\u001b[0m \tMSE: 23.002459417119187 \n",
      "\t\t\tR_2: 0.9487741145193099\n",
      "\u001b[1m\tTrain data:\u001b[0m \tMSE: 15.284583042673317 \n",
      "\t\t\tR_2: 0.9714165152607729\n",
      "\u001b[91m\u001b[1mOVERFITTUING!!!\u001b[0m\n",
      "\n"
     ]
    }
   ],
   "source": [
    "task_10(100, 10, 4)"
   ]
  },
  {
   "cell_type": "code",
   "execution_count": null,
   "id": "7b079f5e",
   "metadata": {},
   "outputs": [],
   "source": [
    "# ниже мусор!"
   ]
  },
  {
   "cell_type": "code",
   "execution_count": 740,
   "id": "b75bf6d1",
   "metadata": {
    "ExecuteTime": {
     "end_time": "2021-12-02T09:20:00.564469Z",
     "start_time": "2021-12-02T09:20:00.534548Z"
    }
   },
   "outputs": [
    {
     "name": "stdout",
     "output_type": "stream",
     "text": [
      "norm vector:  (290.9971191687914, 285.53665707029415) \n",
      "\n",
      "cov matrix:\n",
      " [[310.61952533 312.5300088 ]\n",
      " [312.5300088  307.58236589]]\n"
     ]
    }
   ],
   "source": [
    "N = 100\n",
    "p = 10\n",
    "mean, cov = get_mean()[0:2], get_cov()[0:2, 0:2]\n",
    "\n",
    "print(\"norm vector: \", mean, \"\\n\\ncov matrix:\\n\", cov)"
   ]
  },
  {
   "cell_type": "code",
   "execution_count": 670,
   "id": "e559a9e6",
   "metadata": {
    "ExecuteTime": {
     "end_time": "2021-12-02T09:05:46.170221Z",
     "start_time": "2021-12-02T09:05:46.147281Z"
    }
   },
   "outputs": [
    {
     "data": {
      "text/html": [
       "<div>\n",
       "<style scoped>\n",
       "    .dataframe tbody tr th:only-of-type {\n",
       "        vertical-align: middle;\n",
       "    }\n",
       "\n",
       "    .dataframe tbody tr th {\n",
       "        vertical-align: top;\n",
       "    }\n",
       "\n",
       "    .dataframe thead tr th {\n",
       "        text-align: left;\n",
       "    }\n",
       "</style>\n",
       "<table border=\"1\" class=\"dataframe\">\n",
       "  <thead>\n",
       "    <tr>\n",
       "      <th></th>\n",
       "      <th>x1</th>\n",
       "      <th>x2_1</th>\n",
       "    </tr>\n",
       "  </thead>\n",
       "  <tbody>\n",
       "    <tr>\n",
       "      <th>0</th>\n",
       "      <td>79.701079</td>\n",
       "      <td>82.022292</td>\n",
       "    </tr>\n",
       "    <tr>\n",
       "      <th>1</th>\n",
       "      <td>87.483834</td>\n",
       "      <td>91.949499</td>\n",
       "    </tr>\n",
       "    <tr>\n",
       "      <th>2</th>\n",
       "      <td>94.073276</td>\n",
       "      <td>95.254325</td>\n",
       "    </tr>\n",
       "    <tr>\n",
       "      <th>3</th>\n",
       "      <td>97.034297</td>\n",
       "      <td>101.401279</td>\n",
       "    </tr>\n",
       "    <tr>\n",
       "      <th>4</th>\n",
       "      <td>114.568324</td>\n",
       "      <td>114.738465</td>\n",
       "    </tr>\n",
       "  </tbody>\n",
       "</table>\n",
       "</div>"
      ],
      "text/plain": [
       "           x1        x2_1\n",
       "0   79.701079   82.022292\n",
       "1   87.483834   91.949499\n",
       "2   94.073276   95.254325\n",
       "3   97.034297  101.401279\n",
       "4  114.568324  114.738465"
      ]
     },
     "execution_count": 670,
     "metadata": {},
     "output_type": "execute_result"
    }
   ],
   "source": [
    "df = np.random.multivariate_normal(mean, cov, N)\n",
    "\n",
    "df = pd.DataFrame(data=df, columns=[[\"x1\", \"x2_1\"]])\n",
    "df.head()"
   ]
  },
  {
   "cell_type": "code",
   "execution_count": 671,
   "id": "ae890d67",
   "metadata": {
    "ExecuteTime": {
     "end_time": "2021-12-02T09:05:46.294181Z",
     "start_time": "2021-12-02T09:05:46.273239Z"
    }
   },
   "outputs": [],
   "source": [
    "# x_1 = a0 + a1 * x_2 + a2 * x2^2 + a3 * x2^2 + ... + u \n",
    "\n",
    "for i in range(2, p+1):\n",
    "    df[\"x2_\" + str(i)] = df[\"x2_1\"] ** i"
   ]
  },
  {
   "cell_type": "code",
   "execution_count": 672,
   "id": "38a55289",
   "metadata": {
    "ExecuteTime": {
     "end_time": "2021-12-02T09:05:46.685810Z",
     "start_time": "2021-12-02T09:05:46.655025Z"
    }
   },
   "outputs": [
    {
     "data": {
      "text/html": [
       "<div>\n",
       "<style scoped>\n",
       "    .dataframe tbody tr th:only-of-type {\n",
       "        vertical-align: middle;\n",
       "    }\n",
       "\n",
       "    .dataframe tbody tr th {\n",
       "        vertical-align: top;\n",
       "    }\n",
       "\n",
       "    .dataframe thead tr th {\n",
       "        text-align: left;\n",
       "    }\n",
       "</style>\n",
       "<table border=\"1\" class=\"dataframe\">\n",
       "  <thead>\n",
       "    <tr>\n",
       "      <th></th>\n",
       "      <th>x1</th>\n",
       "      <th>x2_1</th>\n",
       "      <th>x2_2</th>\n",
       "      <th>x2_3</th>\n",
       "      <th>x2_4</th>\n",
       "      <th>x2_5</th>\n",
       "      <th>x2_6</th>\n",
       "      <th>x2_7</th>\n",
       "      <th>x2_8</th>\n",
       "      <th>x2_9</th>\n",
       "      <th>x2_10</th>\n",
       "    </tr>\n",
       "  </thead>\n",
       "  <tbody>\n",
       "    <tr>\n",
       "      <th>0</th>\n",
       "      <td>79.701079</td>\n",
       "      <td>82.022292</td>\n",
       "      <td>6727.656442</td>\n",
       "      <td>5.518178e+05</td>\n",
       "      <td>4.526136e+07</td>\n",
       "      <td>3.712441e+09</td>\n",
       "      <td>3.045029e+11</td>\n",
       "      <td>2.497602e+13</td>\n",
       "      <td>2.048591e+15</td>\n",
       "      <td>1.680301e+17</td>\n",
       "      <td>1.378222e+19</td>\n",
       "    </tr>\n",
       "    <tr>\n",
       "      <th>1</th>\n",
       "      <td>87.483834</td>\n",
       "      <td>91.949499</td>\n",
       "      <td>8454.710367</td>\n",
       "      <td>7.774064e+05</td>\n",
       "      <td>7.148213e+07</td>\n",
       "      <td>6.572746e+09</td>\n",
       "      <td>6.043607e+11</td>\n",
       "      <td>5.557066e+13</td>\n",
       "      <td>5.109695e+15</td>\n",
       "      <td>4.698339e+17</td>\n",
       "      <td>4.320099e+19</td>\n",
       "    </tr>\n",
       "    <tr>\n",
       "      <th>2</th>\n",
       "      <td>94.073276</td>\n",
       "      <td>95.254325</td>\n",
       "      <td>9073.386444</td>\n",
       "      <td>8.642793e+05</td>\n",
       "      <td>8.232634e+07</td>\n",
       "      <td>7.841940e+09</td>\n",
       "      <td>7.469787e+11</td>\n",
       "      <td>7.115295e+13</td>\n",
       "      <td>6.777627e+15</td>\n",
       "      <td>6.455982e+17</td>\n",
       "      <td>6.149602e+19</td>\n",
       "    </tr>\n",
       "    <tr>\n",
       "      <th>3</th>\n",
       "      <td>97.034297</td>\n",
       "      <td>101.401279</td>\n",
       "      <td>10282.219416</td>\n",
       "      <td>1.042630e+06</td>\n",
       "      <td>1.057240e+08</td>\n",
       "      <td>1.072055e+10</td>\n",
       "      <td>1.087078e+12</td>\n",
       "      <td>1.102311e+14</td>\n",
       "      <td>1.117757e+16</td>\n",
       "      <td>1.133420e+18</td>\n",
       "      <td>1.149302e+20</td>\n",
       "    </tr>\n",
       "    <tr>\n",
       "      <th>4</th>\n",
       "      <td>114.568324</td>\n",
       "      <td>114.738465</td>\n",
       "      <td>13164.915289</td>\n",
       "      <td>1.510522e+06</td>\n",
       "      <td>1.733150e+08</td>\n",
       "      <td>1.988590e+10</td>\n",
       "      <td>2.281677e+12</td>\n",
       "      <td>2.617961e+14</td>\n",
       "      <td>3.003809e+16</td>\n",
       "      <td>3.446524e+18</td>\n",
       "      <td>3.954489e+20</td>\n",
       "    </tr>\n",
       "  </tbody>\n",
       "</table>\n",
       "</div>"
      ],
      "text/plain": [
       "           x1        x2_1          x2_2          x2_3          x2_4  \\\n",
       "0   79.701079   82.022292   6727.656442  5.518178e+05  4.526136e+07   \n",
       "1   87.483834   91.949499   8454.710367  7.774064e+05  7.148213e+07   \n",
       "2   94.073276   95.254325   9073.386444  8.642793e+05  8.232634e+07   \n",
       "3   97.034297  101.401279  10282.219416  1.042630e+06  1.057240e+08   \n",
       "4  114.568324  114.738465  13164.915289  1.510522e+06  1.733150e+08   \n",
       "\n",
       "           x2_5          x2_6          x2_7          x2_8          x2_9  \\\n",
       "0  3.712441e+09  3.045029e+11  2.497602e+13  2.048591e+15  1.680301e+17   \n",
       "1  6.572746e+09  6.043607e+11  5.557066e+13  5.109695e+15  4.698339e+17   \n",
       "2  7.841940e+09  7.469787e+11  7.115295e+13  6.777627e+15  6.455982e+17   \n",
       "3  1.072055e+10  1.087078e+12  1.102311e+14  1.117757e+16  1.133420e+18   \n",
       "4  1.988590e+10  2.281677e+12  2.617961e+14  3.003809e+16  3.446524e+18   \n",
       "\n",
       "          x2_10  \n",
       "0  1.378222e+19  \n",
       "1  4.320099e+19  \n",
       "2  6.149602e+19  \n",
       "3  1.149302e+20  \n",
       "4  3.954489e+20  "
      ]
     },
     "execution_count": 672,
     "metadata": {},
     "output_type": "execute_result"
    }
   ],
   "source": [
    "df.head()"
   ]
  },
  {
   "cell_type": "code",
   "execution_count": 673,
   "id": "ea04078b",
   "metadata": {
    "ExecuteTime": {
     "end_time": "2021-12-02T09:05:46.970986Z",
     "start_time": "2021-12-02T09:05:46.955275Z"
    }
   },
   "outputs": [
    {
     "data": {
      "text/plain": [
       "(90, 11)"
      ]
     },
     "execution_count": 673,
     "metadata": {},
     "output_type": "execute_result"
    }
   ],
   "source": [
    "train, test = train_test_split(df, test_size=0.1)\n",
    "train.shape"
   ]
  },
  {
   "cell_type": "code",
   "execution_count": 675,
   "id": "7c247ecf",
   "metadata": {
    "ExecuteTime": {
     "end_time": "2021-12-02T09:05:58.563736Z",
     "start_time": "2021-12-02T09:05:58.552766Z"
    }
   },
   "outputs": [
    {
     "data": {
      "text/plain": [
       "LinearRegression()"
      ]
     },
     "execution_count": 675,
     "metadata": {},
     "output_type": "execute_result"
    }
   ],
   "source": [
    "model = LinearRegression()\n",
    "model.fit(X=train.drop(columns=[\"x1\"]), y=train.x1)"
   ]
  },
  {
   "cell_type": "markdown",
   "id": "6b2cf7c0",
   "metadata": {},
   "source": [
    "### calculate metrix for **test samples**"
   ]
  },
  {
   "cell_type": "code",
   "execution_count": 678,
   "id": "8267f3e4",
   "metadata": {
    "ExecuteTime": {
     "end_time": "2021-12-02T09:06:33.380728Z",
     "start_time": "2021-12-02T09:06:33.363737Z"
    }
   },
   "outputs": [
    {
     "data": {
      "text/plain": [
       "array([[ 93.56115262],\n",
       "       [109.40859151],\n",
       "       [ 96.07632378],\n",
       "       [100.80980148],\n",
       "       [ 73.92063979],\n",
       "       [ 88.72958023],\n",
       "       [107.4331347 ],\n",
       "       [100.38820075],\n",
       "       [104.48449195],\n",
       "       [102.31260686]])"
      ]
     },
     "execution_count": 678,
     "metadata": {},
     "output_type": "execute_result"
    }
   ],
   "source": [
    "pred_test = model.predict(test.drop(columns=[\"x1\"]))\n",
    "pred_test"
   ]
  },
  {
   "cell_type": "code",
   "execution_count": 679,
   "id": "4deac491",
   "metadata": {
    "ExecuteTime": {
     "end_time": "2021-12-02T09:06:34.058498Z",
     "start_time": "2021-12-02T09:06:34.049534Z"
    }
   },
   "outputs": [
    {
     "data": {
      "text/html": [
       "<div>\n",
       "<style scoped>\n",
       "    .dataframe tbody tr th:only-of-type {\n",
       "        vertical-align: middle;\n",
       "    }\n",
       "\n",
       "    .dataframe tbody tr th {\n",
       "        vertical-align: top;\n",
       "    }\n",
       "\n",
       "    .dataframe thead tr th {\n",
       "        text-align: left;\n",
       "    }\n",
       "</style>\n",
       "<table border=\"1\" class=\"dataframe\">\n",
       "  <thead>\n",
       "    <tr>\n",
       "      <th></th>\n",
       "      <th>x1</th>\n",
       "    </tr>\n",
       "  </thead>\n",
       "  <tbody>\n",
       "    <tr>\n",
       "      <th>22</th>\n",
       "      <td>95.051139</td>\n",
       "    </tr>\n",
       "    <tr>\n",
       "      <th>87</th>\n",
       "      <td>104.229651</td>\n",
       "    </tr>\n",
       "    <tr>\n",
       "      <th>40</th>\n",
       "      <td>96.690903</td>\n",
       "    </tr>\n",
       "    <tr>\n",
       "      <th>54</th>\n",
       "      <td>99.140177</td>\n",
       "    </tr>\n",
       "    <tr>\n",
       "      <th>70</th>\n",
       "      <td>73.818965</td>\n",
       "    </tr>\n",
       "    <tr>\n",
       "      <th>16</th>\n",
       "      <td>83.323680</td>\n",
       "    </tr>\n",
       "    <tr>\n",
       "      <th>60</th>\n",
       "      <td>101.349240</td>\n",
       "    </tr>\n",
       "    <tr>\n",
       "      <th>91</th>\n",
       "      <td>101.364984</td>\n",
       "    </tr>\n",
       "    <tr>\n",
       "      <th>50</th>\n",
       "      <td>104.827224</td>\n",
       "    </tr>\n",
       "    <tr>\n",
       "      <th>67</th>\n",
       "      <td>99.824359</td>\n",
       "    </tr>\n",
       "  </tbody>\n",
       "</table>\n",
       "</div>"
      ],
      "text/plain": [
       "            x1\n",
       "22   95.051139\n",
       "87  104.229651\n",
       "40   96.690903\n",
       "54   99.140177\n",
       "70   73.818965\n",
       "16   83.323680\n",
       "60  101.349240\n",
       "91  101.364984\n",
       "50  104.827224\n",
       "67   99.824359"
      ]
     },
     "execution_count": 679,
     "metadata": {},
     "output_type": "execute_result"
    }
   ],
   "source": [
    "test.x1"
   ]
  },
  {
   "cell_type": "code",
   "execution_count": 682,
   "id": "101c745f",
   "metadata": {
    "ExecuteTime": {
     "end_time": "2021-12-02T09:06:43.323482Z",
     "start_time": "2021-12-02T09:06:43.314501Z"
    }
   },
   "outputs": [
    {
     "data": {
      "text/plain": [
       "10.571764873958907"
      ]
     },
     "execution_count": 682,
     "metadata": {},
     "output_type": "execute_result"
    }
   ],
   "source": [
    "mean_squared_error(test.x1, pred_test)"
   ]
  },
  {
   "cell_type": "code",
   "execution_count": 684,
   "id": "0c9ee855",
   "metadata": {
    "ExecuteTime": {
     "end_time": "2021-12-02T09:07:09.779823Z",
     "start_time": "2021-12-02T09:07:09.762852Z"
    }
   },
   "outputs": [
    {
     "data": {
      "text/plain": [
       "0.8800818268375687"
      ]
     },
     "execution_count": 684,
     "metadata": {},
     "output_type": "execute_result"
    }
   ],
   "source": [
    "r2_score(test.x1, pred_test)"
   ]
  },
  {
   "cell_type": "markdown",
   "id": "579d89a4",
   "metadata": {},
   "source": [
    "### calculate metrix for **train samples**"
   ]
  },
  {
   "cell_type": "code",
   "execution_count": 687,
   "id": "385df6e2",
   "metadata": {
    "ExecuteTime": {
     "end_time": "2021-12-02T09:09:28.287879Z",
     "start_time": "2021-12-02T09:09:28.279906Z"
    },
    "scrolled": true
   },
   "outputs": [],
   "source": [
    "pred_train = model.predict(train.drop(columns=[\"x1\"]))"
   ]
  },
  {
   "cell_type": "code",
   "execution_count": 688,
   "id": "42e05f80",
   "metadata": {
    "ExecuteTime": {
     "end_time": "2021-12-02T09:09:28.428935Z",
     "start_time": "2021-12-02T09:09:28.418925Z"
    }
   },
   "outputs": [
    {
     "data": {
      "text/plain": [
       "3.9518414926273855"
      ]
     },
     "execution_count": 688,
     "metadata": {},
     "output_type": "execute_result"
    }
   ],
   "source": [
    "mean_squared_error(train.x1, pred_train)"
   ]
  },
  {
   "cell_type": "code",
   "execution_count": 689,
   "id": "6d167270",
   "metadata": {
    "ExecuteTime": {
     "end_time": "2021-12-02T09:09:28.547400Z",
     "start_time": "2021-12-02T09:09:28.531061Z"
    }
   },
   "outputs": [
    {
     "data": {
      "text/plain": [
       "0.9606396307514697"
      ]
     },
     "execution_count": 689,
     "metadata": {},
     "output_type": "execute_result"
    }
   ],
   "source": [
    "r2_score(train.x1, pred_train)"
   ]
  },
  {
   "cell_type": "markdown",
   "id": "e2c6051f",
   "metadata": {},
   "source": [
    "**Переобучение!!! mse сильно отличается на train и test выборке**"
   ]
  },
  {
   "cell_type": "markdown",
   "id": "6ace1c58",
   "metadata": {},
   "source": [
    "14. (+0,5 балла) Для первой выборки построить несколько диаграмм рассеяния. На них\n",
    "изобразить линии регрессии при различных значениях p."
   ]
  },
  {
   "cell_type": "code",
   "execution_count": null,
   "id": "d7ce92d1",
   "metadata": {},
   "outputs": [],
   "source": []
  },
  {
   "cell_type": "code",
   "execution_count": null,
   "id": "b958e223",
   "metadata": {},
   "outputs": [],
   "source": []
  }
 ],
 "metadata": {
  "kernelspec": {
   "display_name": "Python 3",
   "language": "python",
   "name": "python3"
  },
  "language_info": {
   "codemirror_mode": {
    "name": "ipython",
    "version": 3
   },
   "file_extension": ".py",
   "mimetype": "text/x-python",
   "name": "python",
   "nbconvert_exporter": "python",
   "pygments_lexer": "ipython3",
   "version": "3.8.8"
  },
  "toc": {
   "base_numbering": 1,
   "nav_menu": {},
   "number_sections": false,
   "sideBar": true,
   "skip_h1_title": true,
   "title_cell": "Table of Contents",
   "title_sidebar": "Contents",
   "toc_cell": false,
   "toc_position": {},
   "toc_section_display": true,
   "toc_window_display": false
  }
 },
 "nbformat": 4,
 "nbformat_minor": 5
}
