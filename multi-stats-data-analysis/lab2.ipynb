{
 "cells": [
  {
   "cell_type": "markdown",
   "id": "64976a61",
   "metadata": {},
   "source": [
    "# Лабораторная работа № 2. Многомерный нормальный закон распределения\n",
    "   \n",
    "Вариант: 13"
   ]
  },
  {
   "cell_type": "markdown",
   "id": "4b67c02c",
   "metadata": {},
   "source": [
    "# Основные задания (на 4 балла)\n",
    "\n",
    "0. Загрузить 4-хмерную выборку из файла “VarN.csv”, где N – номер варианта, он же номер в списке подгруппы (см. таблицу с текущим рейтингом). Объем выборки – 400 наблюдений.\n",
    "1. По выборке оценить вектор математического ожидания μ и ковариационную матрицу Σ (можно использовать смещенные оценки).\n",
    "2. Оценить коэффициенты корреляции между всеми парами переменных. \n",
    "\n",
    "Data: \n",
    "\n",
    "2-var:\n",
    "* k1=8\n",
    "* k2=10\n",
    "* k3=9 \n",
    "* k4=4"
   ]
  },
  {
   "cell_type": "code",
   "execution_count": 2,
   "id": "128e6674",
   "metadata": {
    "ExecuteTime": {
     "end_time": "2021-11-04T09:57:42.630639Z",
     "start_time": "2021-11-04T09:57:42.625687Z"
    }
   },
   "outputs": [],
   "source": [
    "import numpy as np\n",
    "import pandas as pd\n",
    "\n",
    "import seaborn as sns\n",
    "import matplotlib.pyplot as plt\n",
    "plt.rcParams[\"figure.figsize\"] = (8, 8)\n",
    "sns.set_style(\"darkgrid\")\n",
    "\n",
    "import warnings\n",
    "warnings.filterwarnings(\"ignore\")"
   ]
  },
  {
   "cell_type": "code",
   "execution_count": 3,
   "id": "96503c93",
   "metadata": {
    "ExecuteTime": {
     "end_time": "2021-11-04T09:57:42.773674Z",
     "start_time": "2021-11-04T09:57:42.759677Z"
    }
   },
   "outputs": [
    {
     "data": {
      "text/html": [
       "<div>\n",
       "<style scoped>\n",
       "    .dataframe tbody tr th:only-of-type {\n",
       "        vertical-align: middle;\n",
       "    }\n",
       "\n",
       "    .dataframe tbody tr th {\n",
       "        vertical-align: top;\n",
       "    }\n",
       "\n",
       "    .dataframe thead th {\n",
       "        text-align: right;\n",
       "    }\n",
       "</style>\n",
       "<table border=\"1\" class=\"dataframe\">\n",
       "  <thead>\n",
       "    <tr style=\"text-align: right;\">\n",
       "      <th></th>\n",
       "      <th>x1</th>\n",
       "      <th>x2</th>\n",
       "      <th>x3</th>\n",
       "      <th>x4</th>\n",
       "    </tr>\n",
       "  </thead>\n",
       "  <tbody>\n",
       "    <tr>\n",
       "      <th>0</th>\n",
       "      <td>-0.162335</td>\n",
       "      <td>3.078449</td>\n",
       "      <td>0.612037</td>\n",
       "      <td>2.915497</td>\n",
       "    </tr>\n",
       "    <tr>\n",
       "      <th>1</th>\n",
       "      <td>-3.830440</td>\n",
       "      <td>-5.611127</td>\n",
       "      <td>1.698634</td>\n",
       "      <td>-1.040172</td>\n",
       "    </tr>\n",
       "    <tr>\n",
       "      <th>2</th>\n",
       "      <td>-1.223487</td>\n",
       "      <td>2.129645</td>\n",
       "      <td>2.320451</td>\n",
       "      <td>-0.857494</td>\n",
       "    </tr>\n",
       "    <tr>\n",
       "      <th>3</th>\n",
       "      <td>-1.544387</td>\n",
       "      <td>-3.563944</td>\n",
       "      <td>0.685918</td>\n",
       "      <td>0.535238</td>\n",
       "    </tr>\n",
       "    <tr>\n",
       "      <th>4</th>\n",
       "      <td>-3.982360</td>\n",
       "      <td>-3.180578</td>\n",
       "      <td>-3.364532</td>\n",
       "      <td>-1.698507</td>\n",
       "    </tr>\n",
       "  </tbody>\n",
       "</table>\n",
       "</div>"
      ],
      "text/plain": [
       "         x1        x2        x3        x4\n",
       "0 -0.162335  3.078449  0.612037  2.915497\n",
       "1 -3.830440 -5.611127  1.698634 -1.040172\n",
       "2 -1.223487  2.129645  2.320451 -0.857494\n",
       "3 -1.544387 -3.563944  0.685918  0.535238\n",
       "4 -3.982360 -3.180578 -3.364532 -1.698507"
      ]
     },
     "execution_count": 3,
     "metadata": {},
     "output_type": "execute_result"
    }
   ],
   "source": [
    "df = pd.read_csv(\"var13_2.csv\", delimiter=\";\", decimal=',')\n",
    "df.head()"
   ]
  },
  {
   "cell_type": "code",
   "execution_count": 4,
   "id": "ba9b7d74",
   "metadata": {
    "ExecuteTime": {
     "end_time": "2021-11-04T09:57:42.914645Z",
     "start_time": "2021-11-04T09:57:42.878137Z"
    }
   },
   "outputs": [
    {
     "data": {
      "text/html": [
       "<div>\n",
       "<style scoped>\n",
       "    .dataframe tbody tr th:only-of-type {\n",
       "        vertical-align: middle;\n",
       "    }\n",
       "\n",
       "    .dataframe tbody tr th {\n",
       "        vertical-align: top;\n",
       "    }\n",
       "\n",
       "    .dataframe thead th {\n",
       "        text-align: right;\n",
       "    }\n",
       "</style>\n",
       "<table border=\"1\" class=\"dataframe\">\n",
       "  <thead>\n",
       "    <tr style=\"text-align: right;\">\n",
       "      <th></th>\n",
       "      <th>count</th>\n",
       "      <th>mean</th>\n",
       "      <th>std</th>\n",
       "      <th>min</th>\n",
       "      <th>25%</th>\n",
       "      <th>50%</th>\n",
       "      <th>75%</th>\n",
       "      <th>max</th>\n",
       "    </tr>\n",
       "  </thead>\n",
       "  <tbody>\n",
       "    <tr>\n",
       "      <th>x1</th>\n",
       "      <td>400.0</td>\n",
       "      <td>-2.633698</td>\n",
       "      <td>1.679475</td>\n",
       "      <td>-8.763236</td>\n",
       "      <td>-3.648910</td>\n",
       "      <td>-2.559100</td>\n",
       "      <td>-1.524684</td>\n",
       "      <td>2.885348</td>\n",
       "    </tr>\n",
       "    <tr>\n",
       "      <th>x2</th>\n",
       "      <td>400.0</td>\n",
       "      <td>-1.086364</td>\n",
       "      <td>2.484270</td>\n",
       "      <td>-8.012465</td>\n",
       "      <td>-2.632424</td>\n",
       "      <td>-1.157743</td>\n",
       "      <td>0.631841</td>\n",
       "      <td>6.027379</td>\n",
       "    </tr>\n",
       "    <tr>\n",
       "      <th>x3</th>\n",
       "      <td>400.0</td>\n",
       "      <td>0.124800</td>\n",
       "      <td>2.986677</td>\n",
       "      <td>-8.981332</td>\n",
       "      <td>-1.921586</td>\n",
       "      <td>0.082672</td>\n",
       "      <td>1.950133</td>\n",
       "      <td>9.365567</td>\n",
       "    </tr>\n",
       "    <tr>\n",
       "      <th>x4</th>\n",
       "      <td>400.0</td>\n",
       "      <td>-0.056853</td>\n",
       "      <td>1.246487</td>\n",
       "      <td>-4.271474</td>\n",
       "      <td>-0.862105</td>\n",
       "      <td>-0.009946</td>\n",
       "      <td>0.734255</td>\n",
       "      <td>3.613999</td>\n",
       "    </tr>\n",
       "  </tbody>\n",
       "</table>\n",
       "</div>"
      ],
      "text/plain": [
       "    count      mean       std       min       25%       50%       75%  \\\n",
       "x1  400.0 -2.633698  1.679475 -8.763236 -3.648910 -2.559100 -1.524684   \n",
       "x2  400.0 -1.086364  2.484270 -8.012465 -2.632424 -1.157743  0.631841   \n",
       "x3  400.0  0.124800  2.986677 -8.981332 -1.921586  0.082672  1.950133   \n",
       "x4  400.0 -0.056853  1.246487 -4.271474 -0.862105 -0.009946  0.734255   \n",
       "\n",
       "         max  \n",
       "x1  2.885348  \n",
       "x2  6.027379  \n",
       "x3  9.365567  \n",
       "x4  3.613999  "
      ]
     },
     "execution_count": 4,
     "metadata": {},
     "output_type": "execute_result"
    }
   ],
   "source": [
    "df.describe().T"
   ]
  },
  {
   "cell_type": "code",
   "execution_count": 5,
   "id": "3ee1c5e8",
   "metadata": {
    "ExecuteTime": {
     "end_time": "2021-11-04T09:57:43.021518Z",
     "start_time": "2021-11-04T09:57:42.997580Z"
    }
   },
   "outputs": [
    {
     "data": {
      "text/html": [
       "<div>\n",
       "<style scoped>\n",
       "    .dataframe tbody tr th:only-of-type {\n",
       "        vertical-align: middle;\n",
       "    }\n",
       "\n",
       "    .dataframe tbody tr th {\n",
       "        vertical-align: top;\n",
       "    }\n",
       "\n",
       "    .dataframe thead th {\n",
       "        text-align: right;\n",
       "    }\n",
       "</style>\n",
       "<table border=\"1\" class=\"dataframe\">\n",
       "  <thead>\n",
       "    <tr style=\"text-align: right;\">\n",
       "      <th></th>\n",
       "      <th>x1</th>\n",
       "      <th>x2</th>\n",
       "      <th>x3</th>\n",
       "      <th>x4</th>\n",
       "    </tr>\n",
       "  </thead>\n",
       "  <tbody>\n",
       "    <tr>\n",
       "      <th>x1</th>\n",
       "      <td>1.000000</td>\n",
       "      <td>0.329140</td>\n",
       "      <td>0.123472</td>\n",
       "      <td>0.845736</td>\n",
       "    </tr>\n",
       "    <tr>\n",
       "      <th>x2</th>\n",
       "      <td>0.329140</td>\n",
       "      <td>1.000000</td>\n",
       "      <td>0.170435</td>\n",
       "      <td>0.282597</td>\n",
       "    </tr>\n",
       "    <tr>\n",
       "      <th>x3</th>\n",
       "      <td>0.123472</td>\n",
       "      <td>0.170435</td>\n",
       "      <td>1.000000</td>\n",
       "      <td>0.113519</td>\n",
       "    </tr>\n",
       "    <tr>\n",
       "      <th>x4</th>\n",
       "      <td>0.845736</td>\n",
       "      <td>0.282597</td>\n",
       "      <td>0.113519</td>\n",
       "      <td>1.000000</td>\n",
       "    </tr>\n",
       "  </tbody>\n",
       "</table>\n",
       "</div>"
      ],
      "text/plain": [
       "          x1        x2        x3        x4\n",
       "x1  1.000000  0.329140  0.123472  0.845736\n",
       "x2  0.329140  1.000000  0.170435  0.282597\n",
       "x3  0.123472  0.170435  1.000000  0.113519\n",
       "x4  0.845736  0.282597  0.113519  1.000000"
      ]
     },
     "execution_count": 5,
     "metadata": {},
     "output_type": "execute_result"
    }
   ],
   "source": [
    "# матрица корреляции\n",
    "df.corr()"
   ]
  },
  {
   "cell_type": "code",
   "execution_count": 5,
   "id": "6cac56f6",
   "metadata": {
    "ExecuteTime": {
     "end_time": "2021-11-04T09:57:43.147983Z",
     "start_time": "2021-11-04T09:57:43.127040Z"
    }
   },
   "outputs": [
    {
     "data": {
      "text/html": [
       "<div>\n",
       "<style scoped>\n",
       "    .dataframe tbody tr th:only-of-type {\n",
       "        vertical-align: middle;\n",
       "    }\n",
       "\n",
       "    .dataframe tbody tr th {\n",
       "        vertical-align: top;\n",
       "    }\n",
       "\n",
       "    .dataframe thead th {\n",
       "        text-align: right;\n",
       "    }\n",
       "</style>\n",
       "<table border=\"1\" class=\"dataframe\">\n",
       "  <thead>\n",
       "    <tr style=\"text-align: right;\">\n",
       "      <th></th>\n",
       "      <th>x1</th>\n",
       "      <th>x2</th>\n",
       "      <th>x3</th>\n",
       "      <th>x4</th>\n",
       "    </tr>\n",
       "  </thead>\n",
       "  <tbody>\n",
       "    <tr>\n",
       "      <th>x1</th>\n",
       "      <td>9.300734</td>\n",
       "      <td>3.081056</td>\n",
       "      <td>0.658811</td>\n",
       "      <td>18.718237</td>\n",
       "    </tr>\n",
       "    <tr>\n",
       "      <th>x2</th>\n",
       "      <td>3.081056</td>\n",
       "      <td>4.796201</td>\n",
       "      <td>1.152700</td>\n",
       "      <td>6.242198</td>\n",
       "    </tr>\n",
       "    <tr>\n",
       "      <th>x3</th>\n",
       "      <td>0.658811</td>\n",
       "      <td>1.152700</td>\n",
       "      <td>2.624713</td>\n",
       "      <td>1.305670</td>\n",
       "    </tr>\n",
       "    <tr>\n",
       "      <th>x4</th>\n",
       "      <td>18.718237</td>\n",
       "      <td>6.242198</td>\n",
       "      <td>1.305670</td>\n",
       "      <td>38.097900</td>\n",
       "    </tr>\n",
       "  </tbody>\n",
       "</table>\n",
       "</div>"
      ],
      "text/plain": [
       "           x1        x2        x3         x4\n",
       "x1   9.300734  3.081056  0.658811  18.718237\n",
       "x2   3.081056  4.796201  1.152700   6.242198\n",
       "x3   0.658811  1.152700  2.624713   1.305670\n",
       "x4  18.718237  6.242198  1.305670  38.097900"
      ]
     },
     "execution_count": 5,
     "metadata": {},
     "output_type": "execute_result"
    }
   ],
   "source": [
    "# матрица ковариации\n",
    "df.cov()"
   ]
  },
  {
   "cell_type": "markdown",
   "id": "2aad7c7b",
   "metadata": {},
   "source": [
    "**Ковариацио́нная ма́трица** — это матрица, составленная из попарных ковариаций элементов одного или двух случайных векторов.\n",
    "\n",
    "**Корреляционная матрица** - это квадратная таблица, содержащая коэффициенты корреляции между всеми возможными парами переменных , используемых в анализе. "
   ]
  },
  {
   "cell_type": "code",
   "execution_count": 6,
   "id": "44e2eb73",
   "metadata": {
    "ExecuteTime": {
     "end_time": "2021-11-04T09:57:43.620311Z",
     "start_time": "2021-11-04T09:57:43.381915Z"
    }
   },
   "outputs": [
    {
     "data": {
      "image/png": "[encoded data removed]",
      "text/plain": [
       "<Figure size 576x360 with 2 Axes>"
      ]
     },
     "metadata": {},
     "output_type": "display_data"
    }
   ],
   "source": [
    "f, ax = plt.subplots(figsize=(8, 5))\n",
    "matrix = np.triu(df.corr(method=\"pearson\"))\n",
    "sns.heatmap(df[df.columns].corr(), vmin=-1, vmax=1,\n",
    "            cmap='coolwarm', annot=True, center=0).set_title(\"Pearson correlation of all num features\")\n",
    "plt.show()"
   ]
  },
  {
   "cell_type": "markdown",
   "id": "d490e50c",
   "metadata": {},
   "source": [
    "# Бонусные задания\n",
    "## Проверка о принадлежности выборки к нормальному закону распределения\n",
    "3. (0,5 балла) Постройте гистограммы для каждой переменной из выборки. Похожи ли гистограммы на плотность распределения нормального закона?"
   ]
  },
  {
   "cell_type": "code",
   "execution_count": 38,
   "id": "64aa88ff",
   "metadata": {
    "ExecuteTime": {
     "end_time": "2021-11-04T09:57:44.660141Z",
     "start_time": "2021-11-04T09:57:43.917880Z"
    }
   },
   "outputs": [
    {
     "data": {
      "image/png": "[encoded data removed]",
      "text/plain": [
       "<Figure size 864x1080 with 6 Axes>"
      ]
     },
     "metadata": {},
     "output_type": "display_data"
    }
   ],
   "source": [
    "#from scipy.stats import gaussian_kde\n",
    "#density = stats.kde.gaussian_kde(df)\n",
    "df.hist(figsize=(12, 15), xlabelsize=8, ylabelsize=8);"
   ]
  },
  {
   "cell_type": "markdown",
   "id": "06d43cb6",
   "metadata": {},
   "source": [
    "4. (1 балл за первый тест + 0,5 за каждый следующий) Для каждой переменой проверить гипотезы согласия о принадлежности выборки к нормальному закону распределения. Рекомендуемые тесты: Хи-квадрат Пирсона, Колмогорова-Смирнова, Шапиро-Уилка (можно использовать другие тесты согласия). Сделать вывод\n",
    "\n",
    "https://machinelearningmastery.com/a-gentle-introduction-to-normality-tests-in-python/"
   ]
  },
  {
   "cell_type": "code",
   "execution_count": 8,
   "id": "05e66efa",
   "metadata": {
    "ExecuteTime": {
     "end_time": "2021-11-04T09:57:44.676113Z",
     "start_time": "2021-11-04T09:57:44.662118Z"
    }
   },
   "outputs": [
    {
     "name": "stdout",
     "output_type": "stream",
     "text": [
      "p = [0.99312933 0.61582539 0.70832096 0.97227582]\n",
      "The null hypothesis can be rejected\n"
     ]
    }
   ],
   "source": [
    "from scipy import stats\n",
    "\n",
    "k2, p = stats.normaltest(df)\n",
    "alpha = 1e-3\n",
    "print(\"p = {}\".format(p))\n",
    "p = 8.4713e-19\n",
    "if p < alpha:  # null hypothesis: x comes from a normal distribution\n",
    "    print(\"The null hypothesis can be rejected\")\n",
    "else:\n",
    "    print(\"The null hypothesis cannot be rejected\")\n"
   ]
  },
  {
   "cell_type": "code",
   "execution_count": 9,
   "id": "e13e9689",
   "metadata": {
    "ExecuteTime": {
     "end_time": "2021-11-04T09:57:45.965725Z",
     "start_time": "2021-11-04T09:57:45.959740Z"
    }
   },
   "outputs": [],
   "source": [
    "from numpy.random import seed\n",
    "from numpy.random import randn\n",
    "from scipy.stats import shapiro\n",
    "seed(1)\n",
    "\n",
    "\n",
    "def Shapiro_Wilk_Test(data):\n",
    "    # normality test\n",
    "    stat, p = shapiro(data)\n",
    "    print('Statistics=%.3f, p=%.3f' % (stat, p))\n",
    "\n",
    "    # interpret\n",
    "    alpha = 0.05\n",
    "    if p > alpha:\n",
    "        print('Sample looks Gaussian (fail to reject H0)\\n')\n",
    "    else:\n",
    "        print('Sample does not look Gaussian (reject H0)\\n')"
   ]
  },
  {
   "cell_type": "code",
   "execution_count": 10,
   "id": "05be77a1",
   "metadata": {
    "ExecuteTime": {
     "end_time": "2021-11-04T09:57:46.771502Z",
     "start_time": "2021-11-04T09:57:46.752523Z"
    }
   },
   "outputs": [
    {
     "name": "stdout",
     "output_type": "stream",
     "text": [
      "Statistics=0.998, p=0.859\n",
      "Sample looks Gaussian (fail to reject H0)\n",
      "\n",
      "Statistics=0.997, p=0.665\n",
      "Sample looks Gaussian (fail to reject H0)\n",
      "\n",
      "Statistics=0.998, p=0.872\n",
      "Sample looks Gaussian (fail to reject H0)\n",
      "\n",
      "Statistics=0.998, p=0.876\n",
      "Sample looks Gaussian (fail to reject H0)\n",
      "\n"
     ]
    }
   ],
   "source": [
    "Shapiro_Wilk_Test(df[\"x1\"])\n",
    "Shapiro_Wilk_Test(df[\"x2\"])\n",
    "Shapiro_Wilk_Test(df[\"x3\"])\n",
    "Shapiro_Wilk_Test(df[\"x4\"])"
   ]
  },
  {
   "cell_type": "code",
   "execution_count": 11,
   "id": "5428c427",
   "metadata": {
    "ExecuteTime": {
     "end_time": "2021-11-04T10:48:41.577818Z",
     "start_time": "2021-11-04T10:48:41.557879Z"
    }
   },
   "outputs": [],
   "source": [
    "# не работает!!!!\n",
    "\n",
    "# https://www.youtube.com/watch?v=HKDqlYSLt68\n",
    "# https://www.medcalc.org/manual/chi-square-table.php\n",
    "\n",
    "def chi_square_test(data):\n",
    "    seed(42)\n",
    "    mean = data.mean()\n",
    "    std = data.std()\n",
    "    data = (data - mean) / std \n",
    "    alpha = 0.05\n",
    "\n",
    "    expected = np.random.normal(size=400)\n",
    "\n",
    "    chi_square = 0\n",
    "    for i in range(len(df)):\n",
    "        O = data[i]\n",
    "        E = expected[i]\n",
    "        chi_square += (O-E)**2/E\n",
    "\n",
    "#     447.632\n",
    "    print(\"The p-value approach to hypothesis testing in the decision rule\")\n",
    "    p_value = 1 - stats.norm.cdf(chi_square, len(data)-1)\n",
    "    conclusion = \"Failed to reject the null hypothesis.\\n\"\n",
    "    if p_value <= alpha:\n",
    "        conclusion = \"Null Hypothesis is rejected.\\n\"\n",
    "\n",
    "    print(\"chisquare-score is:\", chi_square, \" and p value is:\", p_value)\n",
    "    print(conclusion)"
   ]
  },
  {
   "cell_type": "code",
   "execution_count": 12,
   "id": "aeef0ef6",
   "metadata": {
    "ExecuteTime": {
     "end_time": "2021-11-04T10:48:43.227767Z",
     "start_time": "2021-11-04T10:48:43.208791Z"
    }
   },
   "outputs": [
    {
     "name": "stdout",
     "output_type": "stream",
     "text": [
      "The p-value approach to hypothesis testing in the decision rule\n",
      "chisquare-score is: 756.541851222941  and p value is: 0.0\n",
      "Null Hypothesis is rejected.\n",
      "\n"
     ]
    }
   ],
   "source": [
    "chi_square_test(df[\"x1\"])"
   ]
  },
  {
   "cell_type": "code",
   "execution_count": 13,
   "id": "1544f365",
   "metadata": {
    "ExecuteTime": {
     "end_time": "2021-11-04T10:54:03.131143Z",
     "start_time": "2021-11-04T10:54:03.118144Z"
    }
   },
   "outputs": [],
   "source": [
    "data = df[\"x1\"]"
   ]
  },
  {
   "cell_type": "code",
   "execution_count": 14,
   "id": "8bde3215",
   "metadata": {
    "ExecuteTime": {
     "end_time": "2021-11-04T10:56:07.659011Z",
     "start_time": "2021-11-04T10:56:07.648010Z"
    }
   },
   "outputs": [
    {
     "data": {
      "text/plain": [
       "Power_divergenceResult(statistic=1000.7831213051966, pvalue=1.8539658744868811e-53)"
      ]
     },
     "execution_count": 14,
     "metadata": {},
     "output_type": "execute_result"
    }
   ],
   "source": [
    "mean = data.mean()\n",
    "std = data.std()\n",
    "data = (data - mean) / std \n",
    "alpha = 0.05\n",
    "    \n",
    "expected = np.random.normal(size=400)\n",
    "\n",
    "stats.chisquare(data, expected)"
   ]
  },
  {
   "cell_type": "code",
   "execution_count": null,
   "id": "e9587d44",
   "metadata": {},
   "outputs": [],
   "source": []
  },
  {
   "cell_type": "code",
   "execution_count": 15,
   "id": "eced9b50",
   "metadata": {
    "ExecuteTime": {
     "end_time": "2021-11-04T10:58:07.520741Z",
     "start_time": "2021-11-04T10:58:07.508773Z"
    }
   },
   "outputs": [],
   "source": [
    "# D’Agostino’s K^2 Test\n",
    "\n",
    "from numpy.random import seed\n",
    "from numpy.random import randn\n",
    "from scipy.stats import normaltest\n",
    "\n",
    "def Agostino_test(data):\n",
    "    \n",
    "    # normality test\n",
    "    stat, p = normaltest(data)\n",
    "    print('Statistics=%.3f, p=%.3f' % (stat, p))\n",
    "    \n",
    "    # interpret\n",
    "    alpha = 0.05\n",
    "    if p > alpha:\n",
    "        print('Sample looks Gaussian (fail to reject H0)\\n')\n",
    "    else:\n",
    "        print('Sample does not look Gaussian (reject H0)\\n')"
   ]
  },
  {
   "cell_type": "code",
   "execution_count": 16,
   "id": "ce70e8f6",
   "metadata": {
    "ExecuteTime": {
     "end_time": "2021-11-04T10:58:07.630559Z",
     "start_time": "2021-11-04T10:58:07.616632Z"
    }
   },
   "outputs": [
    {
     "name": "stdout",
     "output_type": "stream",
     "text": [
      "Statistics=0.014, p=0.993\n",
      "Sample looks Gaussian (fail to reject H0)\n",
      "\n",
      "Statistics=0.970, p=0.616\n",
      "Sample looks Gaussian (fail to reject H0)\n",
      "\n",
      "Statistics=0.690, p=0.708\n",
      "Sample looks Gaussian (fail to reject H0)\n",
      "\n",
      "Statistics=0.056, p=0.972\n",
      "Sample looks Gaussian (fail to reject H0)\n",
      "\n"
     ]
    }
   ],
   "source": [
    "Agostino_test(df[\"x1\"])\n",
    "Agostino_test(df[\"x2\"])\n",
    "Agostino_test(df[\"x3\"])\n",
    "Agostino_test(df[\"x4\"])"
   ]
  },
  {
   "cell_type": "markdown",
   "id": "4ae4fdfc",
   "metadata": {},
   "source": [
    "**Тест Колмогорова-Смирнова**\n",
    "\n",
    "\n",
    "Гипотеза null ( H0 ) заключается в том, что распределение, выборкой которого являются ваши данные, равно стандартному нормальному распределению со средним значением 0, отклонением std 1.\n",
    "\n",
    "Малое значение p указывает на то, что тестовая статистика, столь же большая, как D, будет ожидаться с вероятностью p-значения.\n",
    "\n",
    "Другими словами, (с p-значением ~8.9e-22) крайне маловероятно, что H0 истинно."
   ]
  },
  {
   "cell_type": "code",
   "execution_count": 17,
   "id": "786a6867",
   "metadata": {
    "ExecuteTime": {
     "end_time": "2021-11-04T10:44:35.700114Z",
     "start_time": "2021-11-04T10:44:35.681354Z"
    }
   },
   "outputs": [],
   "source": [
    "def kstest(data):\n",
    "    mean = data.mean()\n",
    "    std = data.std()\n",
    "    algha = 0.05\n",
    "    \n",
    "    data_normed = (data - mean) / std\n",
    "    print(stats.kstest(data_normed,'norm'))\n",
    "    statistic, pvalue = stats.kstest(data_normed,'norm')\n",
    "    if pvalue <= alpha:\n",
    "        print(\"Null Hypothesis is rejected.\\n\")\n",
    "    else:\n",
    "        print(\"Failed to reject the null hypothesis.\\n\")\n",
    "    "
   ]
  },
  {
   "cell_type": "code",
   "execution_count": 18,
   "id": "255bbc17",
   "metadata": {
    "ExecuteTime": {
     "end_time": "2021-11-04T10:44:33.684509Z",
     "start_time": "2021-11-04T10:44:33.666571Z"
    }
   },
   "outputs": [
    {
     "name": "stdout",
     "output_type": "stream",
     "text": [
      "KstestResult(statistic=0.025092813743107678, pvalue=0.9572787586354888)\n",
      "Failed to reject the null hypothesis.\n",
      "\n",
      "KstestResult(statistic=0.027482409981669675, pvalue=0.9148814656244069)\n",
      "Failed to reject the null hypothesis.\n",
      "\n",
      "KstestResult(statistic=0.02721986347893257, pvalue=0.9203454510410688)\n",
      "Failed to reject the null hypothesis.\n",
      "\n",
      "KstestResult(statistic=0.020249179849376686, pvalue=0.9956272225699718)\n",
      "Failed to reject the null hypothesis.\n",
      "\n"
     ]
    }
   ],
   "source": [
    "kstest(df[\"x1\"])\n",
    "kstest(df[\"x2\"])\n",
    "kstest(df[\"x3\"])\n",
    "kstest(df[\"x4\"])"
   ]
  },
  {
   "cell_type": "markdown",
   "id": "63411e2c",
   "metadata": {},
   "source": [
    "5. (1 балл за уникальный пример) Как известно, в общем случае из того факта, что все одномерные маргинальные распределения являются нормальными не следует, что и совместное распределение случайного вектора тоже является нормальным? Приведите пример двумерного вектора, у которого каждая компонента по-отдельности имеет нормальный закон распределения, но совместное распределение не является нормальным."
   ]
  },
  {
   "cell_type": "code",
   "execution_count": null,
   "id": "6bdb714b",
   "metadata": {},
   "outputs": [],
   "source": []
  },
  {
   "cell_type": "markdown",
   "id": "0d6744b1",
   "metadata": {},
   "source": [
    "## Эллипсы концентрации\n",
    "\n",
    "6. (0,5 балла) Изобразить диаграмму рассеяния первой и второй переменной выборки (по оси x откладывать значения X1, а по оси y – X2 или наоборот).\n"
   ]
  },
  {
   "cell_type": "code",
   "execution_count": 19,
   "id": "b5eab3a7",
   "metadata": {
    "ExecuteTime": {
     "end_time": "2021-11-04T09:57:28.030534Z",
     "start_time": "2021-11-04T09:57:27.986601Z"
    }
   },
   "outputs": [
    {
     "data": {
      "text/plain": [
       "<AxesSubplot:xlabel='x1', ylabel='x2'>"
      ]
     },
     "execution_count": 19,
     "metadata": {},
     "output_type": "execute_result"
    },
    {
     "data": {
      "image/png": "[encoded data removed]",
      "text/plain": [
       "<Figure size 576x576 with 1 Axes>"
      ]
     },
     "metadata": {},
     "output_type": "display_data"
    }
   ],
   "source": [
    "sns.regplot(x=\"x1\", y=\"x2\", data=df, fit_reg=False)"
   ]
  },
  {
   "cell_type": "markdown",
   "id": "d617e096",
   "metadata": {},
   "source": [
    "7. (1 балл) На том же графике изобразить несколько эллипсов концентрации – малого, среднегои большого радиуса (эллипсоид концентрации для многомерного нормального закона – изолиния, вдоль которой плотность распределения не изменяется). Вместо точных значений математического ожидания и ковариационной матрицы используйте соответствующие оценки."
   ]
  },
  {
   "cell_type": "code",
   "execution_count": 20,
   "id": "d0d4c8d5",
   "metadata": {
    "ExecuteTime": {
     "end_time": "2021-11-04T09:57:28.032485Z",
     "start_time": "2021-11-04T09:57:26.818Z"
    }
   },
   "outputs": [],
   "source": [
    "import numpy as np\n",
    "import matplotlib.pyplot as plt\n",
    "from matplotlib.patches import Ellipse"
   ]
  },
  {
   "cell_type": "code",
   "execution_count": 21,
   "id": "94f51384",
   "metadata": {
    "ExecuteTime": {
     "end_time": "2021-11-04T09:57:28.033482Z",
     "start_time": "2021-11-04T09:57:26.820Z"
    }
   },
   "outputs": [],
   "source": [
    "def eigsorted(cov):\n",
    "    vals, vecs = np.linalg.eigh(cov)\n",
    "    order = vals.argsort()[::-1]\n",
    "    return vals[order], vecs[:,order]\n",
    "\n",
    "def plot_ellipse(x, y):\n",
    "    fig, ax = plt.subplots(figsize=(8,8))\n",
    "\n",
    "    cov = np.cov(x, y)\n",
    "    vals, vecs = eigsorted(cov)\n",
    "    theta = np.degrees(np.arctan2(*vecs[:,0][::-1]))\n",
    "    \n",
    "    nstd1 = 1\n",
    "    w1, h1 = 2 * nstd1 * np.sqrt(vals)\n",
    "    \n",
    "    nstd2 = 2\n",
    "    w2, h2 = 2 * nstd2 * np.sqrt(vals)\n",
    "    \n",
    "    nstd3 = 3\n",
    "    w3, h3 = 2 * nstd3 * np.sqrt(vals)\n",
    "\n",
    "    ell1 = Ellipse(xy=(np.mean(x), np.mean(y)),\n",
    "              width=w1, height=h1,\n",
    "              angle=theta, color='black')\n",
    "    \n",
    "    ell2 = Ellipse(xy=(np.mean(x), np.mean(y)),\n",
    "              width=w2, height=h2,\n",
    "              angle=theta, color='red')\n",
    "    \n",
    "    ell3 = Ellipse(xy=(np.mean(x), np.mean(y)),\n",
    "              width=w3, height=h3,\n",
    "              angle=theta, color='pink')\n",
    "\n",
    "    ell1.set_facecolor('none')\n",
    "    ell2.set_facecolor('none')\n",
    "    ell3.set_facecolor('none')\n",
    "\n",
    "    ax.add_artist(ell1)\n",
    "    ax.add_artist(ell2)\n",
    "    ax.add_artist(ell3)\n",
    "    \n",
    "    plt.scatter(x, y)\n",
    "    plt.show()"
   ]
  },
  {
   "cell_type": "code",
   "execution_count": 22,
   "id": "6da91260",
   "metadata": {
    "ExecuteTime": {
     "end_time": "2021-11-04T09:57:28.034480Z",
     "start_time": "2021-11-04T09:57:26.822Z"
    }
   },
   "outputs": [
    {
     "data": {
      "image/png": "[encoded data removed]",
      "text/plain": [
       "<Figure size 576x576 with 1 Axes>"
      ]
     },
     "metadata": {},
     "output_type": "display_data"
    }
   ],
   "source": [
    "x = df[\"x1\"]\n",
    "y = df[\"x2\"]\n",
    "plot_ellipse(x,y)"
   ]
  },
  {
   "cell_type": "markdown",
   "id": "558a29d0",
   "metadata": {},
   "source": [
    "8. (0,5 балла) Повторите шаги 6-7 для первой и третьей и первой и четвертой переменных выборки. Как изменяются эллипсы концентрации, что можно сказать об их форме?\n"
   ]
  },
  {
   "cell_type": "code",
   "execution_count": 23,
   "id": "e717cb2f",
   "metadata": {
    "ExecuteTime": {
     "end_time": "2021-11-04T09:57:28.036474Z",
     "start_time": "2021-11-04T09:57:26.827Z"
    }
   },
   "outputs": [
    {
     "data": {
      "image/png": "[encoded data removed]",
      "text/plain": [
       "<Figure size 576x576 with 1 Axes>"
      ]
     },
     "metadata": {},
     "output_type": "display_data"
    }
   ],
   "source": [
    "x = df[\"x1\"]\n",
    "y = df[\"x3\"]\n",
    "plot_ellipse(x,y)"
   ]
  },
  {
   "cell_type": "code",
   "execution_count": 24,
   "id": "f826b296",
   "metadata": {
    "ExecuteTime": {
     "end_time": "2021-11-04T09:57:28.037473Z",
     "start_time": "2021-11-04T09:57:26.829Z"
    }
   },
   "outputs": [
    {
     "data": {
      "image/png": "[encoded data removed]",
      "text/plain": [
       "<Figure size 576x576 with 1 Axes>"
      ]
     },
     "metadata": {},
     "output_type": "display_data"
    }
   ],
   "source": [
    "x = df[\"x1\"]\n",
    "y = df[\"x4\"]\n",
    "plot_ellipse(x,y)"
   ]
  },
  {
   "cell_type": "markdown",
   "id": "1dafb158",
   "metadata": {},
   "source": [
    "## Линейные преобразования нормальных случайных величин\n",
    "\n",
    "9. (2 балл) Пусть y1 = k1∙x1 +k3∙x3, y2 = k2∙x1 + k4∙x4. Какой закон распределения будет у вектора\n",
    "(y1, y2)? Найдите математическое ожидание и ковариационную матрицу нового вектора 2-мя\n",
    "способами: \n",
    "\n",
    "а) эмпирически: сгенерируйте новую двумерную выборку, для которой постройте\n",
    "соответствующие оценки; \n",
    "\n",
    "б) по формулам μNew = Cμ, ΣNew = CΣCT, где С – матрица линейного\n",
    "преобразования. Вместо точных значений математического ожидания и ковариационной матрицы\n",
    "используйте соответствующие оценки. Коэффициенты k1, k2, k3 и k4 представлены в таблице в конце\n",
    "файла."
   ]
  },
  {
   "cell_type": "code",
   "execution_count": 25,
   "id": "e0dcd77f",
   "metadata": {
    "ExecuteTime": {
     "end_time": "2021-11-04T09:57:28.037473Z",
     "start_time": "2021-11-04T09:57:26.831Z"
    }
   },
   "outputs": [
    {
     "data": {
      "text/html": [
       "<div>\n",
       "<style scoped>\n",
       "    .dataframe tbody tr th:only-of-type {\n",
       "        vertical-align: middle;\n",
       "    }\n",
       "\n",
       "    .dataframe tbody tr th {\n",
       "        vertical-align: top;\n",
       "    }\n",
       "\n",
       "    .dataframe thead th {\n",
       "        text-align: right;\n",
       "    }\n",
       "</style>\n",
       "<table border=\"1\" class=\"dataframe\">\n",
       "  <thead>\n",
       "    <tr style=\"text-align: right;\">\n",
       "      <th></th>\n",
       "      <th>y1</th>\n",
       "      <th>y2</th>\n",
       "    </tr>\n",
       "  </thead>\n",
       "  <tbody>\n",
       "    <tr>\n",
       "      <th>0</th>\n",
       "      <td>42.764330</td>\n",
       "      <td>-1.299288</td>\n",
       "    </tr>\n",
       "    <tr>\n",
       "      <th>1</th>\n",
       "      <td>-20.158065</td>\n",
       "      <td>-45.728920</td>\n",
       "    </tr>\n",
       "    <tr>\n",
       "      <th>2</th>\n",
       "      <td>73.322297</td>\n",
       "      <td>86.506649</td>\n",
       "    </tr>\n",
       "    <tr>\n",
       "      <th>3</th>\n",
       "      <td>67.153944</td>\n",
       "      <td>92.732091</td>\n",
       "    </tr>\n",
       "    <tr>\n",
       "      <th>4</th>\n",
       "      <td>-11.958326</td>\n",
       "      <td>13.003242</td>\n",
       "    </tr>\n",
       "  </tbody>\n",
       "</table>\n",
       "</div>"
      ],
      "text/plain": [
       "          y1         y2\n",
       "0  42.764330  -1.299288\n",
       "1 -20.158065 -45.728920\n",
       "2  73.322297  86.506649\n",
       "3  67.153944  92.732091\n",
       "4 -11.958326  13.003242"
      ]
     },
     "execution_count": 25,
     "metadata": {},
     "output_type": "execute_result"
    }
   ],
   "source": [
    "# k1=8\n",
    "# k2=10\n",
    "# k3=9 \n",
    "# k4=4\n",
    "\n",
    "df_y = pd.DataFrame()\n",
    "df_y[\"y1\"] = 8 * df[\"x1\"] + 9 * df[\"x3\"]\n",
    "df_y[\"y2\"] = 10 * df[\"x2\"] + 4 * df[\"x4\"]\n",
    "\n",
    "df_y.head()"
   ]
  },
  {
   "cell_type": "code",
   "execution_count": 26,
   "id": "f8ee10c0",
   "metadata": {
    "ExecuteTime": {
     "end_time": "2021-11-04T09:57:28.038468Z",
     "start_time": "2021-11-04T09:57:26.833Z"
    }
   },
   "outputs": [
    {
     "data": {
      "text/plain": [
       "array([[<AxesSubplot:title={'center':'y1'}>,\n",
       "        <AxesSubplot:title={'center':'y2'}>]], dtype=object)"
      ]
     },
     "execution_count": 26,
     "metadata": {},
     "output_type": "execute_result"
    },
    {
     "data": {
      "image/png": "[encoded data removed]",
      "text/plain": [
       "<Figure size 864x576 with 2 Axes>"
      ]
     },
     "metadata": {},
     "output_type": "display_data"
    }
   ],
   "source": [
    "#a) emperical mean & std\n",
    "df_y.hist(figsize=(12, 8), bins=40, xlabelsize=8, ylabelsize=8)"
   ]
  },
  {
   "cell_type": "code",
   "execution_count": 27,
   "id": "bcd8180c",
   "metadata": {
    "ExecuteTime": {
     "end_time": "2021-11-04T09:57:28.039467Z",
     "start_time": "2021-11-04T09:57:26.835Z"
    },
    "scrolled": true
   },
   "outputs": [
    {
     "data": {
      "text/html": [
       "<div>\n",
       "<style scoped>\n",
       "    .dataframe tbody tr th:only-of-type {\n",
       "        vertical-align: middle;\n",
       "    }\n",
       "\n",
       "    .dataframe tbody tr th {\n",
       "        vertical-align: top;\n",
       "    }\n",
       "\n",
       "    .dataframe thead th {\n",
       "        text-align: right;\n",
       "    }\n",
       "</style>\n",
       "<table border=\"1\" class=\"dataframe\">\n",
       "  <thead>\n",
       "    <tr style=\"text-align: right;\">\n",
       "      <th></th>\n",
       "      <th>std</th>\n",
       "      <th>mean</th>\n",
       "    </tr>\n",
       "  </thead>\n",
       "  <tbody>\n",
       "    <tr>\n",
       "      <th>y1</th>\n",
       "      <td>30.045258</td>\n",
       "      <td>17.098885</td>\n",
       "    </tr>\n",
       "    <tr>\n",
       "      <th>y2</th>\n",
       "      <td>39.856773</td>\n",
       "      <td>12.952971</td>\n",
       "    </tr>\n",
       "  </tbody>\n",
       "</table>\n",
       "</div>"
      ],
      "text/plain": [
       "          std       mean\n",
       "y1  30.045258  17.098885\n",
       "y2  39.856773  12.952971"
      ]
     },
     "execution_count": 27,
     "metadata": {},
     "output_type": "execute_result"
    }
   ],
   "source": [
    "df_y.describe().T[[\"std\", \"mean\"]]"
   ]
  },
  {
   "cell_type": "code",
   "execution_count": 28,
   "id": "63ffc6fc",
   "metadata": {
    "ExecuteTime": {
     "end_time": "2021-11-04T09:57:28.043455Z",
     "start_time": "2021-11-04T09:57:26.845Z"
    }
   },
   "outputs": [],
   "source": [
    "# b) μNew = Cμ, ΣNew = CΣCT,\n",
    "\n",
    "c_y1 = np.array([8, 9])\n",
    "c_y2 = np.array([10, 4])"
   ]
  },
  {
   "cell_type": "code",
   "execution_count": 29,
   "id": "660b8f47",
   "metadata": {
    "ExecuteTime": {
     "end_time": "2021-11-04T09:57:28.045450Z",
     "start_time": "2021-11-04T09:57:26.847Z"
    }
   },
   "outputs": [
    {
     "name": "stdout",
     "output_type": "stream",
     "text": [
      "mean y1: 17.09888487713189\n",
      "mean y2: 12.95297119734068\n"
     ]
    }
   ],
   "source": [
    "# μNew = Cμ = [8, 9] * [μ_1, μ_3]_T\n",
    "\n",
    "# @ - перемножение матриц как в алгебре\n",
    "# * - поэлементное перемножение матриц\n",
    "\n",
    "q_y1 = c_y1 @ df[[\"x1\", \"x3\"]].mean()\n",
    "q_y2 = c_y2 @ df[[\"x2\", \"x4\"]].mean()\n",
    "\n",
    "print(f\"mean y1: {q_y1}\")\n",
    "print(f\"mean y2: {q_y2}\")"
   ]
  },
  {
   "cell_type": "code",
   "execution_count": 30,
   "id": "1225f5d7",
   "metadata": {
    "ExecuteTime": {
     "end_time": "2021-11-04T09:57:28.047445Z",
     "start_time": "2021-11-04T09:57:26.850Z"
    }
   },
   "outputs": [
    {
     "data": {
      "text/plain": [
       "array([[1.        , 0.13334027],\n",
       "       [0.13334027, 1.        ]])"
      ]
     },
     "execution_count": 30,
     "metadata": {},
     "output_type": "execute_result"
    }
   ],
   "source": [
    "np.array(df[[\"x1\", \"x3\"]].corr())"
   ]
  },
  {
   "cell_type": "code",
   "execution_count": 31,
   "id": "3ff9d027",
   "metadata": {
    "ExecuteTime": {
     "end_time": "2021-11-04T09:57:28.048443Z",
     "start_time": "2021-11-04T09:57:26.854Z"
    }
   },
   "outputs": [
    {
     "name": "stdout",
     "output_type": "stream",
     "text": [
      "std y1: 30.045258370471387\n",
      "std y2: 39.85677297251816\n"
     ]
    }
   ],
   "source": [
    "std_y1 = (c_y1 @ np.array(df[[\"x1\", \"x3\"]].cov()) @ c_y1) ** (1/2)\n",
    "std_y2 = (c_y2 @ np.array(df[[\"x2\", \"x4\"]].cov()) @ c_y2) ** (1/2)\n",
    "\n",
    "print(f\"std y1: {std_y1}\")\n",
    "print(f\"std y2: {std_y2}\")"
   ]
  },
  {
   "cell_type": "markdown",
   "id": "190aedf2",
   "metadata": {},
   "source": [
    "## Смесь распределений\n",
    "\n",
    "10. (0,5 балла) Сгенерировать новую переменную по следующему правилу: x5 = α x1 + (1-α)x2, где\n",
    "α – случайная величина Бернулли с вероятностью успеха π (выбрать самостоятельно из диапазона от 0.2 до 0.4). Оценить математическое ожидание и дисперсию новой случайной величины.(0,5 балла) \n",
    "11. Построить гистограмму для переменной x5.\n",
    "12. (1 балл) Найти формулы вычисления математического ожидания и дисперсии смеси\n",
    "распределений и вычислить для своей смеси. Сравнить полученные теоретические моменты с\n",
    "оценками, построенными в пункте 10."
   ]
  },
  {
   "cell_type": "code",
   "execution_count": 32,
   "id": "fa319f72",
   "metadata": {
    "ExecuteTime": {
     "end_time": "2021-11-04T09:57:28.051449Z",
     "start_time": "2021-11-04T09:57:26.856Z"
    }
   },
   "outputs": [
    {
     "data": {
      "text/plain": [
       "array([0, 1, 0, 0, 0, 0, 0, 0, 0, 1, 0, 0, 0, 1, 0, 0, 1, 0, 0, 0, 1, 0,\n",
       "       1, 0, 1, 1, 1, 0, 1, 0, 0, 0, 1, 1, 1, 0, 0, 1, 0, 0, 0, 0, 0, 0,\n",
       "       0, 0, 1, 0, 0, 0, 0, 1, 1, 0, 0, 1, 1, 0, 0, 0, 1, 0, 1, 0, 0, 0,\n",
       "       0, 0, 0, 0, 1, 0, 0, 1, 1, 1, 1, 0, 0, 1, 0, 0, 1, 0, 0, 0, 0, 0,\n",
       "       0, 1, 0, 0, 1, 1, 1, 1, 0, 0, 0, 0, 0, 0, 1, 0, 0, 0, 0, 0, 1, 0,\n",
       "       0, 0, 1, 0, 0, 0, 0, 1, 1, 0, 1, 1, 1, 1, 0, 0, 0, 1, 0, 1, 1, 0,\n",
       "       1, 0, 0, 1, 0, 1, 1, 0, 0, 0, 0, 1, 0, 0, 0, 0, 1, 0, 1, 0, 1, 0,\n",
       "       0, 1, 0, 1, 0, 0, 0, 1, 0, 0, 0, 0, 0, 1, 1, 1, 1, 0, 1, 0, 0, 0,\n",
       "       0, 1, 0, 0, 0, 1, 0, 0, 0, 1, 0, 0, 0, 0, 0, 0, 1, 0, 0, 1, 0, 0,\n",
       "       0, 0, 1, 0, 1, 0, 0, 0, 0, 0, 1, 0, 1, 0, 1, 1, 1, 1, 1, 0, 0, 0,\n",
       "       1, 0, 1, 0, 0, 0, 0, 0, 0, 0, 0, 0, 0, 1, 0, 0, 0, 0, 0, 0, 0, 0,\n",
       "       0, 1, 1, 0, 0, 0, 0, 1, 0, 0, 0, 1, 0, 0, 0, 0, 0, 0, 0, 0, 0, 0,\n",
       "       0, 0, 1, 0, 0, 0, 0, 1, 0, 1, 0, 0, 1, 1, 1, 1, 0, 1, 0, 1, 0, 1,\n",
       "       0, 0, 0, 1, 0, 0, 0, 0, 1, 0, 1, 0, 0, 1, 0, 0, 0, 1, 0, 1, 1, 0,\n",
       "       0, 0, 0, 0, 0, 0, 1, 1, 1, 0, 0, 0, 1, 0, 1, 0, 0, 1, 0, 1, 1, 0,\n",
       "       0, 0, 1, 0, 0, 0, 1, 0, 1, 1, 0, 0, 1, 0, 1, 0, 0, 1, 0, 0, 0, 0,\n",
       "       0, 0, 1, 0, 0, 0, 1, 0, 1, 0, 0, 0, 0, 0, 0, 1, 0, 0, 0, 1, 0, 0,\n",
       "       0, 1, 0, 0, 1, 1, 0, 1, 0, 0, 0, 0, 0, 1, 0, 0, 0, 1, 0, 0, 0, 0,\n",
       "       1, 1, 0, 1])"
      ]
     },
     "execution_count": 32,
     "metadata": {},
     "output_type": "execute_result"
    }
   ],
   "source": [
    "binomial = np.random.binomial(size=400, n=1, p=0.3)\n",
    "binomial"
   ]
  },
  {
   "cell_type": "code",
   "execution_count": 33,
   "id": "fc529b66",
   "metadata": {
    "ExecuteTime": {
     "end_time": "2021-11-04T09:57:28.052432Z",
     "start_time": "2021-11-04T09:57:26.859Z"
    }
   },
   "outputs": [
    {
     "data": {
      "text/plain": [
       "0     -0.690045\n",
       "1     -4.774997\n",
       "2      3.514222\n",
       "3      5.351342\n",
       "4      5.369395\n",
       "         ...   \n",
       "395    1.600668\n",
       "396   -0.367375\n",
       "397   -1.237649\n",
       "398    0.674328\n",
       "399    1.822818\n",
       "Name: x5, Length: 400, dtype: float64"
      ]
     },
     "execution_count": 33,
     "metadata": {},
     "output_type": "execute_result"
    }
   ],
   "source": [
    "df[\"x5\"] = binomial * df[\"x1\"] + (1 - binomial) * df[\"x2\"]\n",
    "df[\"x5\"]"
   ]
  },
  {
   "cell_type": "code",
   "execution_count": 34,
   "id": "924ed690",
   "metadata": {
    "ExecuteTime": {
     "end_time": "2021-11-04T09:57:28.053429Z",
     "start_time": "2021-11-04T09:57:26.861Z"
    }
   },
   "outputs": [
    {
     "data": {
      "text/plain": [
       "mean    1.209091\n",
       "std     2.446930\n",
       "Name: x5, dtype: float64"
      ]
     },
     "execution_count": 34,
     "metadata": {},
     "output_type": "execute_result"
    }
   ],
   "source": [
    "df[\"x5\"].describe().T[[\"mean\", \"std\"]]"
   ]
  },
  {
   "cell_type": "code",
   "execution_count": 35,
   "id": "fb3beffc",
   "metadata": {
    "ExecuteTime": {
     "end_time": "2021-11-04T09:57:28.054426Z",
     "start_time": "2021-11-04T09:57:26.863Z"
    }
   },
   "outputs": [
    {
     "data": {
      "text/plain": [
       "<AxesSubplot:>"
      ]
     },
     "execution_count": 35,
     "metadata": {},
     "output_type": "execute_result"
    },
    {
     "data": {
      "image/png": "[encoded data removed]",
      "text/plain": [
       "<Figure size 576x360 with 1 Axes>"
      ]
     },
     "metadata": {},
     "output_type": "display_data"
    }
   ],
   "source": [
    "df[\"x5\"].hist(figsize=(8, 5), bins=80, xlabelsize=8, ylabelsize=8, )"
   ]
  },
  {
   "cell_type": "markdown",
   "id": "964ba492",
   "metadata": {},
   "source": [
    "Действительно, математическое ожидание смеси распределений будет смесью математических ожиданий этих распределений."
   ]
  },
  {
   "cell_type": "code",
   "execution_count": 36,
   "id": "6e1f4d9f",
   "metadata": {
    "ExecuteTime": {
     "end_time": "2021-11-04T09:57:28.055424Z",
     "start_time": "2021-11-04T09:57:26.866Z"
    }
   },
   "outputs": [
    {
     "data": {
      "text/plain": [
       "1.1492836909211286"
      ]
     },
     "execution_count": 36,
     "metadata": {},
     "output_type": "execute_result"
    }
   ],
   "source": [
    "mean_x5 =  0.3 * df[\"x1\"].mean() + 0.7 * df[\"x2\"].mean()\n",
    "mean_x5"
   ]
  },
  {
   "cell_type": "code",
   "execution_count": 37,
   "id": "65f34493",
   "metadata": {
    "ExecuteTime": {
     "end_time": "2021-11-04T09:57:28.056437Z",
     "start_time": "2021-11-04T09:57:26.869Z"
    }
   },
   "outputs": [
    {
     "data": {
      "text/plain": [
       "2.4479293159601085"
      ]
     },
     "execution_count": 37,
     "metadata": {},
     "output_type": "execute_result"
    }
   ],
   "source": [
    "std_x5 =  0.3 * df[\"x1\"].std() + 0.7 * df[\"x2\"].std()\n",
    "std_x5"
   ]
  }
 ],
 "metadata": {
  "kernelspec": {
   "display_name": "Python 3",
   "language": "python",
   "name": "python3"
  },
  "language_info": {
   "codemirror_mode": {
    "name": "ipython",
    "version": 3
   },
   "file_extension": ".py",
   "mimetype": "text/x-python",
   "name": "python",
   "nbconvert_exporter": "python",
   "pygments_lexer": "ipython3",
   "version": "3.8.8"
  },
  "toc": {
   "base_numbering": 1,
   "nav_menu": {},
   "number_sections": false,
   "sideBar": true,
   "skip_h1_title": false,
   "title_cell": "Table of Contents",
   "title_sidebar": "Contents",
   "toc_cell": false,
   "toc_position": {},
   "toc_section_display": true,
   "toc_window_display": false
  }
 },
 "nbformat": 4,
 "nbformat_minor": 5
}
